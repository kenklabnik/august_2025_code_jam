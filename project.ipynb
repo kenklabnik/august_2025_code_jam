{
 "cells": [
  {
   "cell_type": "markdown",
   "id": "3c76bcdc",
   "metadata": {},
   "source": [
    "# August 2025 TripleTen Code Pudding\n",
    "\n",
    "## Team 2 \n",
    "\n",
    "We've been tasked with training a neural network on Spotify data to try to predict its popularity rating."
   ]
  },
  {
   "cell_type": "code",
   "execution_count": null,
   "id": "25f7f651",
   "metadata": {},
   "outputs": [],
   "source": [
    "# EDA\n",
    "import pandas as pd\n",
    "\n",
    "# Neural network tools\n",
    "import torch"
   ]
  }
 ],
 "metadata": {
  "kernelspec": {
   "display_name": "Python 3",
   "language": "python",
   "name": "python3"
  },
  "language_info": {
   "codemirror_mode": {
    "name": "ipython",
    "version": 3
   },
   "file_extension": ".py",
   "mimetype": "text/x-python",
   "name": "python",
   "nbconvert_exporter": "python",
   "pygments_lexer": "ipython3",
   "version": "3.11.0"
  }
 },
 "nbformat": 4,
 "nbformat_minor": 5
}
