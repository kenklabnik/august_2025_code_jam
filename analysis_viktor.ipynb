{
 "cells": [
  {
   "cell_type": "markdown",
   "id": "8c35e719",
   "metadata": {},
   "source": [
    "# Code Jam Pudding Notebook"
   ]
  },
  {
   "cell_type": "markdown",
   "id": "aabee52f",
   "metadata": {},
   "source": [
    " In this notebook, I will document the full workflow of our Code Jam project, from preprocessing and exploratory analysis to model training and evaluation. It also includes a prediction function and visualizations to interpret model performance and insights from the Spotify dataset."
   ]
  },
  {
   "cell_type": "code",
   "execution_count": 550,
   "id": "d15577ae",
   "metadata": {},
   "outputs": [],
   "source": [
    "import pandas as pd\n",
    "import matplotlib.pyplot as plt\n",
    "import seaborn as sns\n",
    "import numpy as np\n",
    "from sklearn.model_selection import train_test_split\n",
    "from sklearn.metrics import mean_squared_error\n",
    "import torch\n",
    "import torch.nn as nn\n",
    "from sklearn.preprocessing import StandardScaler\n",
    "import joblib"
   ]
  },
  {
   "cell_type": "code",
   "execution_count": 551,
   "id": "8f2417d9",
   "metadata": {},
   "outputs": [],
   "source": [
    "df = pd.read_csv(\"SpotifyFeatures.csv\", low_memory=False)"
   ]
  },
  {
   "cell_type": "code",
   "execution_count": 552,
   "id": "3131d437",
   "metadata": {},
   "outputs": [
    {
     "name": "stdout",
     "output_type": "stream",
     "text": [
      "<class 'pandas.core.frame.DataFrame'>\n",
      "RangeIndex: 232725 entries, 0 to 232724\n",
      "Data columns (total 18 columns):\n",
      " #   Column            Non-Null Count   Dtype  \n",
      "---  ------            --------------   -----  \n",
      " 0   genre             232725 non-null  object \n",
      " 1   artist_name       232725 non-null  object \n",
      " 2   track_name        232724 non-null  object \n",
      " 3   track_id          232725 non-null  object \n",
      " 4   popularity        232725 non-null  int64  \n",
      " 5   acousticness      232725 non-null  float64\n",
      " 6   danceability      232725 non-null  float64\n",
      " 7   duration_ms       232725 non-null  int64  \n",
      " 8   energy            232725 non-null  float64\n",
      " 9   instrumentalness  232725 non-null  float64\n",
      " 10  key               232725 non-null  object \n",
      " 11  liveness          232725 non-null  float64\n",
      " 12  loudness          232725 non-null  float64\n",
      " 13  mode              232725 non-null  object \n",
      " 14  speechiness       232725 non-null  float64\n",
      " 15  tempo             232725 non-null  float64\n",
      " 16  time_signature    232725 non-null  object \n",
      " 17  valence           232725 non-null  float64\n",
      "dtypes: float64(9), int64(2), object(7)\n",
      "memory usage: 32.0+ MB\n"
     ]
    },
    {
     "data": {
      "text/html": [
       "<div>\n",
       "<style scoped>\n",
       "    .dataframe tbody tr th:only-of-type {\n",
       "        vertical-align: middle;\n",
       "    }\n",
       "\n",
       "    .dataframe tbody tr th {\n",
       "        vertical-align: top;\n",
       "    }\n",
       "\n",
       "    .dataframe thead th {\n",
       "        text-align: right;\n",
       "    }\n",
       "</style>\n",
       "<table border=\"1\" class=\"dataframe\">\n",
       "  <thead>\n",
       "    <tr style=\"text-align: right;\">\n",
       "      <th></th>\n",
       "      <th>genre</th>\n",
       "      <th>artist_name</th>\n",
       "      <th>track_name</th>\n",
       "      <th>track_id</th>\n",
       "      <th>popularity</th>\n",
       "      <th>acousticness</th>\n",
       "      <th>danceability</th>\n",
       "      <th>duration_ms</th>\n",
       "      <th>energy</th>\n",
       "      <th>instrumentalness</th>\n",
       "      <th>key</th>\n",
       "      <th>liveness</th>\n",
       "      <th>loudness</th>\n",
       "      <th>mode</th>\n",
       "      <th>speechiness</th>\n",
       "      <th>tempo</th>\n",
       "      <th>time_signature</th>\n",
       "      <th>valence</th>\n",
       "    </tr>\n",
       "  </thead>\n",
       "  <tbody>\n",
       "    <tr>\n",
       "      <th>0</th>\n",
       "      <td>Movie</td>\n",
       "      <td>Henri Salvador</td>\n",
       "      <td>C'est beau de faire un Show</td>\n",
       "      <td>0BRjO6ga9RKCKjfDqeFgWV</td>\n",
       "      <td>0</td>\n",
       "      <td>0.61100</td>\n",
       "      <td>0.389</td>\n",
       "      <td>99373</td>\n",
       "      <td>0.9100</td>\n",
       "      <td>0.00000</td>\n",
       "      <td>C#</td>\n",
       "      <td>0.3460</td>\n",
       "      <td>-1.828</td>\n",
       "      <td>Major</td>\n",
       "      <td>0.0525</td>\n",
       "      <td>166.969</td>\n",
       "      <td>4/4</td>\n",
       "      <td>0.814</td>\n",
       "    </tr>\n",
       "    <tr>\n",
       "      <th>1</th>\n",
       "      <td>Movie</td>\n",
       "      <td>Martin &amp; les fées</td>\n",
       "      <td>Perdu d'avance (par Gad Elmaleh)</td>\n",
       "      <td>0BjC1NfoEOOusryehmNudP</td>\n",
       "      <td>1</td>\n",
       "      <td>0.24600</td>\n",
       "      <td>0.590</td>\n",
       "      <td>137373</td>\n",
       "      <td>0.7370</td>\n",
       "      <td>0.00000</td>\n",
       "      <td>F#</td>\n",
       "      <td>0.1510</td>\n",
       "      <td>-5.559</td>\n",
       "      <td>Minor</td>\n",
       "      <td>0.0868</td>\n",
       "      <td>174.003</td>\n",
       "      <td>4/4</td>\n",
       "      <td>0.816</td>\n",
       "    </tr>\n",
       "    <tr>\n",
       "      <th>2</th>\n",
       "      <td>Movie</td>\n",
       "      <td>Joseph Williams</td>\n",
       "      <td>Don't Let Me Be Lonely Tonight</td>\n",
       "      <td>0CoSDzoNIKCRs124s9uTVy</td>\n",
       "      <td>3</td>\n",
       "      <td>0.95200</td>\n",
       "      <td>0.663</td>\n",
       "      <td>170267</td>\n",
       "      <td>0.1310</td>\n",
       "      <td>0.00000</td>\n",
       "      <td>C</td>\n",
       "      <td>0.1030</td>\n",
       "      <td>-13.879</td>\n",
       "      <td>Minor</td>\n",
       "      <td>0.0362</td>\n",
       "      <td>99.488</td>\n",
       "      <td>5/4</td>\n",
       "      <td>0.368</td>\n",
       "    </tr>\n",
       "    <tr>\n",
       "      <th>3</th>\n",
       "      <td>Movie</td>\n",
       "      <td>Henri Salvador</td>\n",
       "      <td>Dis-moi Monsieur Gordon Cooper</td>\n",
       "      <td>0Gc6TVm52BwZD07Ki6tIvf</td>\n",
       "      <td>0</td>\n",
       "      <td>0.70300</td>\n",
       "      <td>0.240</td>\n",
       "      <td>152427</td>\n",
       "      <td>0.3260</td>\n",
       "      <td>0.00000</td>\n",
       "      <td>C#</td>\n",
       "      <td>0.0985</td>\n",
       "      <td>-12.178</td>\n",
       "      <td>Major</td>\n",
       "      <td>0.0395</td>\n",
       "      <td>171.758</td>\n",
       "      <td>4/4</td>\n",
       "      <td>0.227</td>\n",
       "    </tr>\n",
       "    <tr>\n",
       "      <th>4</th>\n",
       "      <td>Movie</td>\n",
       "      <td>Fabien Nataf</td>\n",
       "      <td>Ouverture</td>\n",
       "      <td>0IuslXpMROHdEPvSl1fTQK</td>\n",
       "      <td>4</td>\n",
       "      <td>0.95000</td>\n",
       "      <td>0.331</td>\n",
       "      <td>82625</td>\n",
       "      <td>0.2250</td>\n",
       "      <td>0.12300</td>\n",
       "      <td>F</td>\n",
       "      <td>0.2020</td>\n",
       "      <td>-21.150</td>\n",
       "      <td>Major</td>\n",
       "      <td>0.0456</td>\n",
       "      <td>140.576</td>\n",
       "      <td>4/4</td>\n",
       "      <td>0.390</td>\n",
       "    </tr>\n",
       "    <tr>\n",
       "      <th>5</th>\n",
       "      <td>Movie</td>\n",
       "      <td>Henri Salvador</td>\n",
       "      <td>Le petit souper aux chandelles</td>\n",
       "      <td>0Mf1jKa8eNAf1a4PwTbizj</td>\n",
       "      <td>0</td>\n",
       "      <td>0.74900</td>\n",
       "      <td>0.578</td>\n",
       "      <td>160627</td>\n",
       "      <td>0.0948</td>\n",
       "      <td>0.00000</td>\n",
       "      <td>C#</td>\n",
       "      <td>0.1070</td>\n",
       "      <td>-14.970</td>\n",
       "      <td>Major</td>\n",
       "      <td>0.1430</td>\n",
       "      <td>87.479</td>\n",
       "      <td>4/4</td>\n",
       "      <td>0.358</td>\n",
       "    </tr>\n",
       "    <tr>\n",
       "      <th>6</th>\n",
       "      <td>Movie</td>\n",
       "      <td>Martin &amp; les fées</td>\n",
       "      <td>Premières recherches (par Paul Ventimila, Lori...</td>\n",
       "      <td>0NUiKYRd6jt1LKMYGkUdnZ</td>\n",
       "      <td>2</td>\n",
       "      <td>0.34400</td>\n",
       "      <td>0.703</td>\n",
       "      <td>212293</td>\n",
       "      <td>0.2700</td>\n",
       "      <td>0.00000</td>\n",
       "      <td>C#</td>\n",
       "      <td>0.1050</td>\n",
       "      <td>-12.675</td>\n",
       "      <td>Major</td>\n",
       "      <td>0.9530</td>\n",
       "      <td>82.873</td>\n",
       "      <td>4/4</td>\n",
       "      <td>0.533</td>\n",
       "    </tr>\n",
       "    <tr>\n",
       "      <th>7</th>\n",
       "      <td>Movie</td>\n",
       "      <td>Laura Mayne</td>\n",
       "      <td>Let Me Let Go</td>\n",
       "      <td>0PbIF9YVD505GutwotpB5C</td>\n",
       "      <td>15</td>\n",
       "      <td>0.93900</td>\n",
       "      <td>0.416</td>\n",
       "      <td>240067</td>\n",
       "      <td>0.2690</td>\n",
       "      <td>0.00000</td>\n",
       "      <td>F#</td>\n",
       "      <td>0.1130</td>\n",
       "      <td>-8.949</td>\n",
       "      <td>Major</td>\n",
       "      <td>0.0286</td>\n",
       "      <td>96.827</td>\n",
       "      <td>4/4</td>\n",
       "      <td>0.274</td>\n",
       "    </tr>\n",
       "    <tr>\n",
       "      <th>8</th>\n",
       "      <td>Movie</td>\n",
       "      <td>Chorus</td>\n",
       "      <td>Helka</td>\n",
       "      <td>0ST6uPfvaPpJLtQwhE6KfC</td>\n",
       "      <td>0</td>\n",
       "      <td>0.00104</td>\n",
       "      <td>0.734</td>\n",
       "      <td>226200</td>\n",
       "      <td>0.4810</td>\n",
       "      <td>0.00086</td>\n",
       "      <td>C</td>\n",
       "      <td>0.0765</td>\n",
       "      <td>-7.725</td>\n",
       "      <td>Major</td>\n",
       "      <td>0.0460</td>\n",
       "      <td>125.080</td>\n",
       "      <td>4/4</td>\n",
       "      <td>0.765</td>\n",
       "    </tr>\n",
       "    <tr>\n",
       "      <th>9</th>\n",
       "      <td>Movie</td>\n",
       "      <td>Le Club des Juniors</td>\n",
       "      <td>Les bisous des bisounours</td>\n",
       "      <td>0VSqZ3KStsjcfERGdcWpFO</td>\n",
       "      <td>10</td>\n",
       "      <td>0.31900</td>\n",
       "      <td>0.598</td>\n",
       "      <td>152694</td>\n",
       "      <td>0.7050</td>\n",
       "      <td>0.00125</td>\n",
       "      <td>G</td>\n",
       "      <td>0.3490</td>\n",
       "      <td>-7.790</td>\n",
       "      <td>Major</td>\n",
       "      <td>0.0281</td>\n",
       "      <td>137.496</td>\n",
       "      <td>4/4</td>\n",
       "      <td>0.718</td>\n",
       "    </tr>\n",
       "  </tbody>\n",
       "</table>\n",
       "</div>"
      ],
      "text/plain": [
       "   genre          artist_name  \\\n",
       "0  Movie       Henri Salvador   \n",
       "1  Movie    Martin & les fées   \n",
       "2  Movie      Joseph Williams   \n",
       "3  Movie       Henri Salvador   \n",
       "4  Movie         Fabien Nataf   \n",
       "5  Movie       Henri Salvador   \n",
       "6  Movie    Martin & les fées   \n",
       "7  Movie          Laura Mayne   \n",
       "8  Movie               Chorus   \n",
       "9  Movie  Le Club des Juniors   \n",
       "\n",
       "                                          track_name                track_id  \\\n",
       "0                        C'est beau de faire un Show  0BRjO6ga9RKCKjfDqeFgWV   \n",
       "1                   Perdu d'avance (par Gad Elmaleh)  0BjC1NfoEOOusryehmNudP   \n",
       "2                     Don't Let Me Be Lonely Tonight  0CoSDzoNIKCRs124s9uTVy   \n",
       "3                     Dis-moi Monsieur Gordon Cooper  0Gc6TVm52BwZD07Ki6tIvf   \n",
       "4                                          Ouverture  0IuslXpMROHdEPvSl1fTQK   \n",
       "5                     Le petit souper aux chandelles  0Mf1jKa8eNAf1a4PwTbizj   \n",
       "6  Premières recherches (par Paul Ventimila, Lori...  0NUiKYRd6jt1LKMYGkUdnZ   \n",
       "7                                      Let Me Let Go  0PbIF9YVD505GutwotpB5C   \n",
       "8                                              Helka  0ST6uPfvaPpJLtQwhE6KfC   \n",
       "9                          Les bisous des bisounours  0VSqZ3KStsjcfERGdcWpFO   \n",
       "\n",
       "   popularity  acousticness  danceability  duration_ms  energy  \\\n",
       "0           0       0.61100         0.389        99373  0.9100   \n",
       "1           1       0.24600         0.590       137373  0.7370   \n",
       "2           3       0.95200         0.663       170267  0.1310   \n",
       "3           0       0.70300         0.240       152427  0.3260   \n",
       "4           4       0.95000         0.331        82625  0.2250   \n",
       "5           0       0.74900         0.578       160627  0.0948   \n",
       "6           2       0.34400         0.703       212293  0.2700   \n",
       "7          15       0.93900         0.416       240067  0.2690   \n",
       "8           0       0.00104         0.734       226200  0.4810   \n",
       "9          10       0.31900         0.598       152694  0.7050   \n",
       "\n",
       "   instrumentalness key  liveness  loudness   mode  speechiness    tempo  \\\n",
       "0           0.00000  C#    0.3460    -1.828  Major       0.0525  166.969   \n",
       "1           0.00000  F#    0.1510    -5.559  Minor       0.0868  174.003   \n",
       "2           0.00000   C    0.1030   -13.879  Minor       0.0362   99.488   \n",
       "3           0.00000  C#    0.0985   -12.178  Major       0.0395  171.758   \n",
       "4           0.12300   F    0.2020   -21.150  Major       0.0456  140.576   \n",
       "5           0.00000  C#    0.1070   -14.970  Major       0.1430   87.479   \n",
       "6           0.00000  C#    0.1050   -12.675  Major       0.9530   82.873   \n",
       "7           0.00000  F#    0.1130    -8.949  Major       0.0286   96.827   \n",
       "8           0.00086   C    0.0765    -7.725  Major       0.0460  125.080   \n",
       "9           0.00125   G    0.3490    -7.790  Major       0.0281  137.496   \n",
       "\n",
       "  time_signature  valence  \n",
       "0            4/4    0.814  \n",
       "1            4/4    0.816  \n",
       "2            5/4    0.368  \n",
       "3            4/4    0.227  \n",
       "4            4/4    0.390  \n",
       "5            4/4    0.358  \n",
       "6            4/4    0.533  \n",
       "7            4/4    0.274  \n",
       "8            4/4    0.765  \n",
       "9            4/4    0.718  "
      ]
     },
     "execution_count": 552,
     "metadata": {},
     "output_type": "execute_result"
    }
   ],
   "source": [
    "df.info()\n",
    "df.head(10)"
   ]
  },
  {
   "cell_type": "markdown",
   "id": "89fc8ae9",
   "metadata": {},
   "source": [
    "# Preprocessing & Results"
   ]
  },
  {
   "cell_type": "markdown",
   "id": "0e8fb277",
   "metadata": {},
   "source": [
    "In this section, I check the dataset for missing and duplicate values to ensure data quality. Cleaning these issues is a crucial first step before moving on to feature selection and modeling."
   ]
  },
  {
   "cell_type": "code",
   "execution_count": 553,
   "id": "e5e5f95b",
   "metadata": {},
   "outputs": [
    {
     "name": "stdout",
     "output_type": "stream",
     "text": [
      "Missing values: 1\n",
      "Duplicate rows: 0\n"
     ]
    }
   ],
   "source": [
    "print(\"Missing values:\", df.isnull().sum().sum())\n",
    "print(\"Duplicate rows:\", df.duplicated().sum())"
   ]
  },
  {
   "cell_type": "code",
   "execution_count": 554,
   "id": "194baf94",
   "metadata": {},
   "outputs": [
    {
     "name": "stdout",
     "output_type": "stream",
     "text": [
      "Duplicate track IDs: 55951\n",
      "<class 'pandas.core.frame.DataFrame'>\n",
      "Index: 176774 entries, 0 to 232724\n",
      "Data columns (total 18 columns):\n",
      " #   Column            Non-Null Count   Dtype  \n",
      "---  ------            --------------   -----  \n",
      " 0   genre             176774 non-null  object \n",
      " 1   artist_name       176774 non-null  object \n",
      " 2   track_name        176773 non-null  object \n",
      " 3   track_id          176774 non-null  object \n",
      " 4   popularity        176774 non-null  int64  \n",
      " 5   acousticness      176774 non-null  float64\n",
      " 6   danceability      176774 non-null  float64\n",
      " 7   duration_ms       176774 non-null  int64  \n",
      " 8   energy            176774 non-null  float64\n",
      " 9   instrumentalness  176774 non-null  float64\n",
      " 10  key               176774 non-null  object \n",
      " 11  liveness          176774 non-null  float64\n",
      " 12  loudness          176774 non-null  float64\n",
      " 13  mode              176774 non-null  object \n",
      " 14  speechiness       176774 non-null  float64\n",
      " 15  tempo             176774 non-null  float64\n",
      " 16  time_signature    176774 non-null  object \n",
      " 17  valence           176774 non-null  float64\n",
      "dtypes: float64(9), int64(2), object(7)\n",
      "memory usage: 25.6+ MB\n"
     ]
    }
   ],
   "source": [
    "print(\"Duplicate track IDs:\", df['track_id'].duplicated().sum())\n",
    "df = df.drop_duplicates(subset='track_id')\n",
    "df.info()"
   ]
  },
  {
   "cell_type": "code",
   "execution_count": 555,
   "id": "4d103e5d",
   "metadata": {},
   "outputs": [
    {
     "data": {
      "text/plain": [
       "track_name\n",
       "False    176773\n",
       "True          1\n",
       "Name: count, dtype: int64"
      ]
     },
     "execution_count": 555,
     "metadata": {},
     "output_type": "execute_result"
    }
   ],
   "source": [
    "df['track_name'].isna().value_counts()"
   ]
  },
  {
   "cell_type": "code",
   "execution_count": 556,
   "id": "caa4d605",
   "metadata": {},
   "outputs": [
    {
     "data": {
      "text/html": [
       "<div>\n",
       "<style scoped>\n",
       "    .dataframe tbody tr th:only-of-type {\n",
       "        vertical-align: middle;\n",
       "    }\n",
       "\n",
       "    .dataframe tbody tr th {\n",
       "        vertical-align: top;\n",
       "    }\n",
       "\n",
       "    .dataframe thead th {\n",
       "        text-align: right;\n",
       "    }\n",
       "</style>\n",
       "<table border=\"1\" class=\"dataframe\">\n",
       "  <thead>\n",
       "    <tr style=\"text-align: right;\">\n",
       "      <th></th>\n",
       "      <th>popularity</th>\n",
       "      <th>acousticness</th>\n",
       "      <th>danceability</th>\n",
       "      <th>duration_ms</th>\n",
       "      <th>energy</th>\n",
       "      <th>instrumentalness</th>\n",
       "      <th>liveness</th>\n",
       "      <th>loudness</th>\n",
       "      <th>speechiness</th>\n",
       "      <th>tempo</th>\n",
       "      <th>valence</th>\n",
       "    </tr>\n",
       "  </thead>\n",
       "  <tbody>\n",
       "    <tr>\n",
       "      <th>count</th>\n",
       "      <td>176774.000000</td>\n",
       "      <td>176774.000000</td>\n",
       "      <td>176774.000000</td>\n",
       "      <td>1.767740e+05</td>\n",
       "      <td>176774.000000</td>\n",
       "      <td>176774.000000</td>\n",
       "      <td>176774.000000</td>\n",
       "      <td>176774.000000</td>\n",
       "      <td>176774.000000</td>\n",
       "      <td>176774.000000</td>\n",
       "      <td>176774.000000</td>\n",
       "    </tr>\n",
       "    <tr>\n",
       "      <th>mean</th>\n",
       "      <td>36.273162</td>\n",
       "      <td>0.404135</td>\n",
       "      <td>0.541068</td>\n",
       "      <td>2.361272e+05</td>\n",
       "      <td>0.557025</td>\n",
       "      <td>0.172073</td>\n",
       "      <td>0.224531</td>\n",
       "      <td>-10.137605</td>\n",
       "      <td>0.127395</td>\n",
       "      <td>117.203679</td>\n",
       "      <td>0.451595</td>\n",
       "    </tr>\n",
       "    <tr>\n",
       "      <th>std</th>\n",
       "      <td>17.391016</td>\n",
       "      <td>0.366302</td>\n",
       "      <td>0.190387</td>\n",
       "      <td>1.305132e+05</td>\n",
       "      <td>0.275839</td>\n",
       "      <td>0.322936</td>\n",
       "      <td>0.211027</td>\n",
       "      <td>6.395551</td>\n",
       "      <td>0.204345</td>\n",
       "      <td>31.325091</td>\n",
       "      <td>0.267820</td>\n",
       "    </tr>\n",
       "    <tr>\n",
       "      <th>min</th>\n",
       "      <td>0.000000</td>\n",
       "      <td>0.000000</td>\n",
       "      <td>0.056900</td>\n",
       "      <td>1.538700e+04</td>\n",
       "      <td>0.000020</td>\n",
       "      <td>0.000000</td>\n",
       "      <td>0.009670</td>\n",
       "      <td>-52.457000</td>\n",
       "      <td>0.022200</td>\n",
       "      <td>30.379000</td>\n",
       "      <td>0.000000</td>\n",
       "    </tr>\n",
       "    <tr>\n",
       "      <th>25%</th>\n",
       "      <td>25.000000</td>\n",
       "      <td>0.045600</td>\n",
       "      <td>0.415000</td>\n",
       "      <td>1.782530e+05</td>\n",
       "      <td>0.344000</td>\n",
       "      <td>0.000000</td>\n",
       "      <td>0.097500</td>\n",
       "      <td>-12.851000</td>\n",
       "      <td>0.036800</td>\n",
       "      <td>92.006000</td>\n",
       "      <td>0.222000</td>\n",
       "    </tr>\n",
       "    <tr>\n",
       "      <th>50%</th>\n",
       "      <td>37.000000</td>\n",
       "      <td>0.288000</td>\n",
       "      <td>0.558000</td>\n",
       "      <td>2.194530e+05</td>\n",
       "      <td>0.592000</td>\n",
       "      <td>0.000070</td>\n",
       "      <td>0.130000</td>\n",
       "      <td>-8.191000</td>\n",
       "      <td>0.049400</td>\n",
       "      <td>115.006500</td>\n",
       "      <td>0.440000</td>\n",
       "    </tr>\n",
       "    <tr>\n",
       "      <th>75%</th>\n",
       "      <td>49.000000</td>\n",
       "      <td>0.791000</td>\n",
       "      <td>0.683000</td>\n",
       "      <td>2.685470e+05</td>\n",
       "      <td>0.789000</td>\n",
       "      <td>0.090800</td>\n",
       "      <td>0.277000</td>\n",
       "      <td>-5.631000</td>\n",
       "      <td>0.102000</td>\n",
       "      <td>138.799750</td>\n",
       "      <td>0.667000</td>\n",
       "    </tr>\n",
       "    <tr>\n",
       "      <th>max</th>\n",
       "      <td>100.000000</td>\n",
       "      <td>0.996000</td>\n",
       "      <td>0.989000</td>\n",
       "      <td>5.552917e+06</td>\n",
       "      <td>0.999000</td>\n",
       "      <td>0.999000</td>\n",
       "      <td>1.000000</td>\n",
       "      <td>3.744000</td>\n",
       "      <td>0.967000</td>\n",
       "      <td>242.903000</td>\n",
       "      <td>1.000000</td>\n",
       "    </tr>\n",
       "  </tbody>\n",
       "</table>\n",
       "</div>"
      ],
      "text/plain": [
       "          popularity   acousticness   danceability   duration_ms  \\\n",
       "count  176774.000000  176774.000000  176774.000000  1.767740e+05   \n",
       "mean       36.273162       0.404135       0.541068  2.361272e+05   \n",
       "std        17.391016       0.366302       0.190387  1.305132e+05   \n",
       "min         0.000000       0.000000       0.056900  1.538700e+04   \n",
       "25%        25.000000       0.045600       0.415000  1.782530e+05   \n",
       "50%        37.000000       0.288000       0.558000  2.194530e+05   \n",
       "75%        49.000000       0.791000       0.683000  2.685470e+05   \n",
       "max       100.000000       0.996000       0.989000  5.552917e+06   \n",
       "\n",
       "              energy  instrumentalness       liveness       loudness  \\\n",
       "count  176774.000000     176774.000000  176774.000000  176774.000000   \n",
       "mean        0.557025          0.172073       0.224531     -10.137605   \n",
       "std         0.275839          0.322936       0.211027       6.395551   \n",
       "min         0.000020          0.000000       0.009670     -52.457000   \n",
       "25%         0.344000          0.000000       0.097500     -12.851000   \n",
       "50%         0.592000          0.000070       0.130000      -8.191000   \n",
       "75%         0.789000          0.090800       0.277000      -5.631000   \n",
       "max         0.999000          0.999000       1.000000       3.744000   \n",
       "\n",
       "         speechiness          tempo        valence  \n",
       "count  176774.000000  176774.000000  176774.000000  \n",
       "mean        0.127395     117.203679       0.451595  \n",
       "std         0.204345      31.325091       0.267820  \n",
       "min         0.022200      30.379000       0.000000  \n",
       "25%         0.036800      92.006000       0.222000  \n",
       "50%         0.049400     115.006500       0.440000  \n",
       "75%         0.102000     138.799750       0.667000  \n",
       "max         0.967000     242.903000       1.000000  "
      ]
     },
     "execution_count": 556,
     "metadata": {},
     "output_type": "execute_result"
    }
   ],
   "source": [
    "df.describe()"
   ]
  },
  {
   "cell_type": "code",
   "execution_count": 557,
   "id": "02db26a5",
   "metadata": {},
   "outputs": [
    {
     "name": "stdout",
     "output_type": "stream",
     "text": [
      "<class 'pandas.core.frame.DataFrame'>\n",
      "Index: 176774 entries, 0 to 232724\n",
      "Data columns (total 18 columns):\n",
      " #   Column            Non-Null Count   Dtype  \n",
      "---  ------            --------------   -----  \n",
      " 0   genre             176774 non-null  object \n",
      " 1   artist_name       176774 non-null  object \n",
      " 2   track_name        176773 non-null  object \n",
      " 3   track_id          176774 non-null  object \n",
      " 4   popularity        176774 non-null  int64  \n",
      " 5   acousticness      176774 non-null  float64\n",
      " 6   danceability      176774 non-null  float64\n",
      " 7   duration_ms       176774 non-null  int64  \n",
      " 8   energy            176774 non-null  float64\n",
      " 9   instrumentalness  176774 non-null  float64\n",
      " 10  key               176774 non-null  object \n",
      " 11  liveness          176774 non-null  float64\n",
      " 12  loudness          176774 non-null  float64\n",
      " 13  mode              176774 non-null  object \n",
      " 14  speechiness       176774 non-null  float64\n",
      " 15  tempo             176774 non-null  float64\n",
      " 16  time_signature    176774 non-null  object \n",
      " 17  valence           176774 non-null  float64\n",
      "dtypes: float64(9), int64(2), object(7)\n",
      "memory usage: 25.6+ MB\n"
     ]
    }
   ],
   "source": [
    "df[df['track_name'].isna()]\n",
    "df.info()"
   ]
  },
  {
   "cell_type": "markdown",
   "id": "56ab3604",
   "metadata": {},
   "source": [
    "The dataset contains one missing track name, which is not meaningful for our analysis. Since track name does not correlate with popularity, we can safely ignore this missing value."
   ]
  },
  {
   "cell_type": "markdown",
   "id": "f68aae1f",
   "metadata": {},
   "source": [
    "# Exploratory Data Analysis (EDA)"
   ]
  },
  {
   "cell_type": "code",
   "execution_count": 558,
   "id": "69f55caa",
   "metadata": {},
   "outputs": [
    {
     "data": {
      "image/png": "[encoded data removed]",
      "text/plain": [
       "<Figure size 1000x500 with 1 Axes>"
      ]
     },
     "metadata": {},
     "output_type": "display_data"
    }
   ],
   "source": [
    "top_genres = df['genre'].value_counts().head(10)\n",
    "\n",
    "plt.figure(figsize=(10,5))\n",
    "sns.barplot(x=top_genres.index, y=top_genres.values, palette='viridis', hue=top_genres.index, legend=False)\n",
    "plt.title('Top 10 Genres by Track Count')\n",
    "plt.xlabel('Genre')\n",
    "plt.ylabel('Count')\n",
    "plt.xticks(rotation=45)\n",
    "plt.show()"
   ]
  },
  {
   "cell_type": "markdown",
   "id": "bce8a5f5",
   "metadata": {},
   "source": [
    "Here I created a bar chart that shows the Top 10 most common music genres in the dataset. First, counted how many tracks belong to each genre using value_counts(). Then I used Seaborn's barplot to plot those counts, coloring each bar with the viridis palette. Finally, added labels and rotated the x-axis so the genre names are easier to read."
   ]
  },
  {
   "cell_type": "code",
   "execution_count": 559,
   "id": "7ffae396",
   "metadata": {},
   "outputs": [
    {
     "data": {
      "image/png": "[encoded data removed]",
      "text/plain": [
       "<Figure size 800x500 with 1 Axes>"
      ]
     },
     "metadata": {},
     "output_type": "display_data"
    }
   ],
   "source": [
    "plt.figure(figsize=(8,5))\n",
    "sns.histplot(df['popularity'], bins=30, kde=False, color='salmon')\n",
    "plt.title('Popularity Distribution')\n",
    "plt.xlabel('Popularity')\n",
    "plt.ylabel('Frequency')\n",
    "plt.show()"
   ]
  },
  {
   "cell_type": "markdown",
   "id": "51ac6d0c",
   "metadata": {},
   "source": [
    "I plotted a histogram of song popularity scores from the dataset. The x-axis shows the popularity values (0–100), and the y-axis shows how many songs fall into each bin. I used 30 bins and colored the bars in salmon for better visualization. This chart shows that most songs have popularity scores between 20 and 60."
   ]
  },
  {
   "cell_type": "code",
   "execution_count": 560,
   "id": "141a6704",
   "metadata": {},
   "outputs": [
    {
     "name": "stdout",
     "output_type": "stream",
     "text": [
      "Shapes: (141419, 23) (35355, 23)\n"
     ]
    }
   ],
   "source": [
    "use_cols = [\n",
    "    'acousticness','danceability','duration_ms','energy','instrumentalness',\n",
    "    'liveness','loudness','speechiness','tempo','valence','key','mode','time_signature']\n",
    "df_fix = df[use_cols + ['popularity']].copy()\n",
    "\n",
    "df_fix['time_signature'] = df_fix['time_signature'].astype(str).str.split('/').str[0]\n",
    "if df_fix['mode'].dtype == 'O':\n",
    "    df_fix['mode'] = df_fix['mode'].map({'Minor': 0, 'Major': 1})\n",
    "df_fix = pd.get_dummies(df_fix, columns=['key'], prefix='key', drop_first=True)\n",
    "\n",
    "y = df_fix['popularity'].values\n",
    "X_df = df_fix.drop(columns=['popularity']).apply(pd.to_numeric, errors='coerce')\n",
    "X_df = X_df.fillna(X_df.median(numeric_only=True))\n",
    "\n",
    "genres = df.loc[X_df.index, 'genre']\n",
    "\n",
    "X_train_df, X_test_df, y_train, y_test, genres_train, genres_test = train_test_split(X_df, y, genres, test_size=0.2, random_state=42)\n",
    "\n",
    "# Scale\n",
    "scaler = StandardScaler()\n",
    "X_train = scaler.fit_transform(X_train_df.values)\n",
    "X_test  = scaler.transform(X_test_df.values)\n",
    "print(\"Shapes:\", X_train.shape, X_test.shape)"
   ]
  },
  {
   "cell_type": "markdown",
   "id": "7b51616c",
   "metadata": {},
   "source": [
    "I prepared this dataset by selecting the main audio features and the target variable popularity. And I was trying to fix formatting issues like converting time_signature to numeric form and mapping mode to 0/1. I also applied one-hot encoding to the key column so the model can work with it. Then I split the data into training and testing sets and scaled the features, ending up with 141,419 training samples and 35,355 test samples across 23 features."
   ]
  },
  {
   "cell_type": "code",
   "execution_count": 561,
   "id": "73e4a251",
   "metadata": {},
   "outputs": [],
   "source": [
    "# Neural Network architecture\n",
    "class SpotifyNet(nn.Module):\n",
    "    def __init__(self, input_dim, hidden_dim=64):\n",
    "        super(SpotifyNet, self).__init__()\n",
    "        self.fc1 = nn.Linear(input_dim, hidden_dim)\n",
    "        self.relu = nn.ReLU()\n",
    "        self.fc2 = nn.Linear(hidden_dim, 1)\n",
    "    \n",
    "    def forward(self, x):\n",
    "        x = self.fc1(x)\n",
    "        x = self.relu(x)\n",
    "        x = self.fc2(x)\n",
    "        return x"
   ]
  },
  {
   "cell_type": "markdown",
   "id": "1955271e",
   "metadata": {},
   "source": [
    "I built a simple neural network called SpotifyNet to predict song popularity. It has one hidden layer with 64 neurons and a ReLU activation function. The final output layer has a single neuron that produces the predicted popularity score."
   ]
  },
  {
   "cell_type": "code",
   "execution_count": 562,
   "id": "cbcc7ca1",
   "metadata": {},
   "outputs": [],
   "source": [
    "model = SpotifyNet(input_dim=X_train.shape[1], hidden_dim=64)"
   ]
  },
  {
   "cell_type": "markdown",
   "id": "1cd13507",
   "metadata": {},
   "source": [
    "Here I created an instance of my SpotifyNet model. I set the input dimension equal to the number of features in my training data and used 64 hidden units. This prepares the model to start learning from the dataset."
   ]
  },
  {
   "cell_type": "code",
   "execution_count": 563,
   "id": "01d4684d",
   "metadata": {},
   "outputs": [
    {
     "name": "stdout",
     "output_type": "stream",
     "text": [
      "Neural Net RMSE: 40.337045882263276\n"
     ]
    }
   ],
   "source": [
    "model.eval()\n",
    "with torch.no_grad():\n",
    "    X_test_tensor = torch.tensor(X_test, dtype=torch.float32)\n",
    "    y_pred = model(X_test_tensor)\n",
    "\n",
    "    y_pred = y_pred.numpy().flatten()\n",
    "nn_rmse = np.sqrt(mean_squared_error(y_test, y_pred))\n",
    "print(\"Neural Net RMSE:\", nn_rmse)"
   ]
  },
  {
   "cell_type": "markdown",
   "id": "4ae22039",
   "metadata": {},
   "source": [
    "I put my model into evaluation mode and disabled gradient tracking. I passed the test data through the neural network to generate predictions, then converted them back to NumPy."
   ]
  },
  {
   "cell_type": "code",
   "execution_count": 564,
   "id": "a200db9a",
   "metadata": {},
   "outputs": [
    {
     "name": "stdout",
     "output_type": "stream",
     "text": [
      "Baseline RMSE: 17.418086367654553\n",
      "NN RMSE: 40.337045882263276\n"
     ]
    }
   ],
   "source": [
    "# Baseline: predict mean popularity\n",
    "mean_pred = np.full_like(y_test, y_train.mean())\n",
    "baseline_rmse = np.sqrt(((mean_pred - y_test) ** 2).mean())\n",
    "print(\"Baseline RMSE:\", baseline_rmse)\n",
    "print(\"NN RMSE:\", nn_rmse)"
   ]
  },
  {
   "cell_type": "markdown",
   "id": "e2993deb",
   "metadata": {},
   "source": [
    "I built a simple baseline model that always predicts the average popularity from the training set. Then I calculated its RMSE to see how it compares with the neural network. This gives me a reference point to check if my NN is actually learning something useful."
   ]
  },
  {
   "cell_type": "code",
   "execution_count": 565,
   "id": "104cbdc1",
   "metadata": {},
   "outputs": [
    {
     "name": "stdout",
     "output_type": "stream",
     "text": [
      "Per-genre RMSE:\n",
      " genre\n",
      "Children's Music     8.905549\n",
      "A Capella           10.906199\n",
      "Opera               15.816401\n",
      "Movie               17.301038\n",
      "Comedy              23.076346\n",
      "Anime               25.910213\n",
      "Ska                 29.660185\n",
      "Classical           32.534913\n",
      "Soundtrack          34.640883\n",
      "Blues               35.159848\n",
      "dtype: float64\n"
     ]
    },
    {
     "data": {
      "image/png": "[encoded data removed]",
      "text/plain": [
       "<Figure size 800x600 with 1 Axes>"
      ]
     },
     "metadata": {},
     "output_type": "display_data"
    }
   ],
   "source": [
    "test_df = pd.DataFrame({\"genre\": genres_test.values,\"predicted\": y_pred,\"actual\": y_test})\n",
    "\n",
    "genre_errors = (test_df.groupby(\"genre\")[[\"predicted\", \"actual\"]].apply(lambda g: np.sqrt(((g[\"predicted\"] - g[\"actual\"])**2).mean())).sort_values())\n",
    "print(\"Per-genre RMSE:\\n\", genre_errors.head(10))\n",
    "\n",
    "genre_errors.head(15).plot(kind=\"barh\", figsize=(8,6))\n",
    "plt.xlabel(\"RMSE\")\n",
    "plt.title(\"Per-Genre RMSE (Top 15 easiest genres)\")\n",
    "plt.show()"
   ]
  },
  {
   "cell_type": "markdown",
   "id": "3814fa4d",
   "metadata": {},
   "source": [
    "I created a dataframe to compare predicted vs actual popularity for each genre. Then grouped the data by genre and calculated the RMSE for each group. Finally, I plotted the 15 genres with the lowest RMSE to see which ones the neural network predicts most accurately."
   ]
  },
  {
   "cell_type": "code",
   "execution_count": 566,
   "id": "e84f9ee4",
   "metadata": {},
   "outputs": [
    {
     "data": {
      "image/png": "[encoded data removed]",
      "text/plain": [
       "<Figure size 640x480 with 1 Axes>"
      ]
     },
     "metadata": {},
     "output_type": "display_data"
    }
   ],
   "source": [
    "residuals = y_test - y_pred\n",
    "\n",
    "plt.hist(residuals, bins=50)\n",
    "plt.title(\"Residuals Distribution (Actual - Predicted)\")\n",
    "plt.xlabel(\"Error\")\n",
    "plt.ylabel(\"Count\")\n",
    "plt.show()"
   ]
  },
  {
   "cell_type": "markdown",
   "id": "69f2bc2f",
   "metadata": {},
   "source": [
    "Here I calculated the residuals, like the difference between actual and predicted popularity. Then plotted them in a histogram to visualize how the errors are distributed. This helps check if the model tends to underpredict or overpredict and whether the errors are spread evenly or skewed."
   ]
  },
  {
   "cell_type": "code",
   "execution_count": 567,
   "id": "d685d4eb",
   "metadata": {},
   "outputs": [
    {
     "name": "stdout",
     "output_type": "stream",
     "text": [
      "Predicted popularity: 0.0\n"
     ]
    }
   ],
   "source": [
    "def predict_popularity(new_song_features, model, scaler):\n",
    "    \"\"\"\n",
    "    new_song_features: 1D array or list with same order of features as X\n",
    "    model: trained PyTorch model\n",
    "    scaler: fitted StandardScaler\n",
    "    \"\"\"\n",
    "    scaled = scaler.transform([new_song_features])\n",
    "    tensor = torch.tensor(scaled, dtype=torch.float32)\n",
    "    model.eval()\n",
    "    with torch.no_grad():\n",
    "        pred = model(tensor).item()\n",
    "    return pred\n",
    "\n",
    "example_raw = X_test_df.iloc[0].values\n",
    "prediction = predict_popularity(example_raw, model, scaler)\n",
    "prediction = float(np.clip(prediction, 0, 100))\n",
    "print(\"Predicted popularity:\", prediction)"
   ]
  },
  {
   "cell_type": "markdown",
   "id": "8e040a10",
   "metadata": {},
   "source": [
    "I created a helper function predict_popularity that takes new song features, scales them with the fitted StandardScaler, and runs them through my trained PyTorch model to generate a prediction. Then tested it using the first row from my test set (X_test_df.iloc[0]). Finally, I clipped the result to stay between 0 and 100 and printed the predicted popularity score."
   ]
  }
 ],
 "metadata": {
  "kernelspec": {
   "display_name": "Python 3",
   "language": "python",
   "name": "python3"
  },
  "language_info": {
   "codemirror_mode": {
    "name": "ipython",
    "version": 3
   },
   "file_extension": ".py",
   "mimetype": "text/x-python",
   "name": "python",
   "nbconvert_exporter": "python",
   "pygments_lexer": "ipython3",
   "version": "3.11.9"
  }
 },
 "nbformat": 4,
 "nbformat_minor": 5
}
