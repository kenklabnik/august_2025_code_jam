{
 "cells": [
  {
   "cell_type": "markdown",
   "id": "3c76bcdc",
   "metadata": {},
   "source": [
    "# August 2025 TripleTen Code Pudding\n",
    "\n",
    "## Team 2 \n",
    "\n",
    "We've been tasked with training a neural network on Spotify data to try to predict its popularity rating."
   ]
  },
  {
   "cell_type": "code",
   "execution_count": 1,
   "id": "25f7f651",
   "metadata": {},
   "outputs": [],
   "source": [
    "# basics\n",
    "import pandas as pd\n",
    "import numpy as np\n",
    "\n",
    "# EDA\n",
    "\n",
    "import matplotlib.pyplot as plt\n",
    "\n",
    "# torch for neural network\n",
    "import torch\n",
    "import torch.nn as nn\n",
    "from torch.utils.data import Dataset, DataLoader\n",
    "\n",
    "# sklearn for preprocessing and sanity-check model\n",
    "from sklearn.preprocessing import StandardScaler\n",
    "from sklearn.model_selection import train_test_split\n",
    "from sklearn.linear_model import LinearRegression\n",
    "from sklearn.metrics import mean_squared_error as mse"
   ]
  },
  {
   "cell_type": "code",
   "execution_count": 2,
   "id": "a2e5cb5a",
   "metadata": {},
   "outputs": [],
   "source": [
    "df = pd.read_csv('data/SpotifyFeatures.csv')"
   ]
  },
  {
   "cell_type": "code",
   "execution_count": 3,
   "id": "271101f6",
   "metadata": {},
   "outputs": [
    {
     "name": "stdout",
     "output_type": "stream",
     "text": [
      "<class 'pandas.core.frame.DataFrame'>\n",
      "RangeIndex: 232725 entries, 0 to 232724\n",
      "Data columns (total 18 columns):\n",
      " #   Column            Non-Null Count   Dtype  \n",
      "---  ------            --------------   -----  \n",
      " 0   genre             232725 non-null  object \n",
      " 1   artist_name       232725 non-null  object \n",
      " 2   track_name        232724 non-null  object \n",
      " 3   track_id          232725 non-null  object \n",
      " 4   popularity        232725 non-null  int64  \n",
      " 5   acousticness      232725 non-null  float64\n",
      " 6   danceability      232725 non-null  float64\n",
      " 7   duration_ms       232725 non-null  int64  \n",
      " 8   energy            232725 non-null  float64\n",
      " 9   instrumentalness  232725 non-null  float64\n",
      " 10  key               232725 non-null  object \n",
      " 11  liveness          232725 non-null  float64\n",
      " 12  loudness          232725 non-null  float64\n",
      " 13  mode              232725 non-null  object \n",
      " 14  speechiness       232725 non-null  float64\n",
      " 15  tempo             232725 non-null  float64\n",
      " 16  time_signature    232725 non-null  object \n",
      " 17  valence           232725 non-null  float64\n",
      "dtypes: float64(9), int64(2), object(7)\n",
      "memory usage: 32.0+ MB\n"
     ]
    }
   ],
   "source": [
    "df.info()"
   ]
  },
  {
   "cell_type": "code",
   "execution_count": 4,
   "id": "b4bfa68b",
   "metadata": {},
   "outputs": [
    {
     "data": {
      "text/html": [
       "<div>\n",
       "<style scoped>\n",
       "    .dataframe tbody tr th:only-of-type {\n",
       "        vertical-align: middle;\n",
       "    }\n",
       "\n",
       "    .dataframe tbody tr th {\n",
       "        vertical-align: top;\n",
       "    }\n",
       "\n",
       "    .dataframe thead th {\n",
       "        text-align: right;\n",
       "    }\n",
       "</style>\n",
       "<table border=\"1\" class=\"dataframe\">\n",
       "  <thead>\n",
       "    <tr style=\"text-align: right;\">\n",
       "      <th></th>\n",
       "      <th>genre</th>\n",
       "      <th>artist_name</th>\n",
       "      <th>track_name</th>\n",
       "      <th>track_id</th>\n",
       "      <th>popularity</th>\n",
       "      <th>acousticness</th>\n",
       "      <th>danceability</th>\n",
       "      <th>duration_ms</th>\n",
       "      <th>energy</th>\n",
       "      <th>instrumentalness</th>\n",
       "      <th>key</th>\n",
       "      <th>liveness</th>\n",
       "      <th>loudness</th>\n",
       "      <th>mode</th>\n",
       "      <th>speechiness</th>\n",
       "      <th>tempo</th>\n",
       "      <th>time_signature</th>\n",
       "      <th>valence</th>\n",
       "    </tr>\n",
       "  </thead>\n",
       "  <tbody>\n",
       "    <tr>\n",
       "      <th>0</th>\n",
       "      <td>Movie</td>\n",
       "      <td>Henri Salvador</td>\n",
       "      <td>C'est beau de faire un Show</td>\n",
       "      <td>0BRjO6ga9RKCKjfDqeFgWV</td>\n",
       "      <td>0</td>\n",
       "      <td>0.611</td>\n",
       "      <td>0.389</td>\n",
       "      <td>99373</td>\n",
       "      <td>0.910</td>\n",
       "      <td>0.000</td>\n",
       "      <td>C#</td>\n",
       "      <td>0.3460</td>\n",
       "      <td>-1.828</td>\n",
       "      <td>Major</td>\n",
       "      <td>0.0525</td>\n",
       "      <td>166.969</td>\n",
       "      <td>4/4</td>\n",
       "      <td>0.814</td>\n",
       "    </tr>\n",
       "    <tr>\n",
       "      <th>1</th>\n",
       "      <td>Movie</td>\n",
       "      <td>Martin &amp; les fées</td>\n",
       "      <td>Perdu d'avance (par Gad Elmaleh)</td>\n",
       "      <td>0BjC1NfoEOOusryehmNudP</td>\n",
       "      <td>1</td>\n",
       "      <td>0.246</td>\n",
       "      <td>0.590</td>\n",
       "      <td>137373</td>\n",
       "      <td>0.737</td>\n",
       "      <td>0.000</td>\n",
       "      <td>F#</td>\n",
       "      <td>0.1510</td>\n",
       "      <td>-5.559</td>\n",
       "      <td>Minor</td>\n",
       "      <td>0.0868</td>\n",
       "      <td>174.003</td>\n",
       "      <td>4/4</td>\n",
       "      <td>0.816</td>\n",
       "    </tr>\n",
       "    <tr>\n",
       "      <th>2</th>\n",
       "      <td>Movie</td>\n",
       "      <td>Joseph Williams</td>\n",
       "      <td>Don't Let Me Be Lonely Tonight</td>\n",
       "      <td>0CoSDzoNIKCRs124s9uTVy</td>\n",
       "      <td>3</td>\n",
       "      <td>0.952</td>\n",
       "      <td>0.663</td>\n",
       "      <td>170267</td>\n",
       "      <td>0.131</td>\n",
       "      <td>0.000</td>\n",
       "      <td>C</td>\n",
       "      <td>0.1030</td>\n",
       "      <td>-13.879</td>\n",
       "      <td>Minor</td>\n",
       "      <td>0.0362</td>\n",
       "      <td>99.488</td>\n",
       "      <td>5/4</td>\n",
       "      <td>0.368</td>\n",
       "    </tr>\n",
       "    <tr>\n",
       "      <th>3</th>\n",
       "      <td>Movie</td>\n",
       "      <td>Henri Salvador</td>\n",
       "      <td>Dis-moi Monsieur Gordon Cooper</td>\n",
       "      <td>0Gc6TVm52BwZD07Ki6tIvf</td>\n",
       "      <td>0</td>\n",
       "      <td>0.703</td>\n",
       "      <td>0.240</td>\n",
       "      <td>152427</td>\n",
       "      <td>0.326</td>\n",
       "      <td>0.000</td>\n",
       "      <td>C#</td>\n",
       "      <td>0.0985</td>\n",
       "      <td>-12.178</td>\n",
       "      <td>Major</td>\n",
       "      <td>0.0395</td>\n",
       "      <td>171.758</td>\n",
       "      <td>4/4</td>\n",
       "      <td>0.227</td>\n",
       "    </tr>\n",
       "    <tr>\n",
       "      <th>4</th>\n",
       "      <td>Movie</td>\n",
       "      <td>Fabien Nataf</td>\n",
       "      <td>Ouverture</td>\n",
       "      <td>0IuslXpMROHdEPvSl1fTQK</td>\n",
       "      <td>4</td>\n",
       "      <td>0.950</td>\n",
       "      <td>0.331</td>\n",
       "      <td>82625</td>\n",
       "      <td>0.225</td>\n",
       "      <td>0.123</td>\n",
       "      <td>F</td>\n",
       "      <td>0.2020</td>\n",
       "      <td>-21.150</td>\n",
       "      <td>Major</td>\n",
       "      <td>0.0456</td>\n",
       "      <td>140.576</td>\n",
       "      <td>4/4</td>\n",
       "      <td>0.390</td>\n",
       "    </tr>\n",
       "  </tbody>\n",
       "</table>\n",
       "</div>"
      ],
      "text/plain": [
       "   genre        artist_name                        track_name  \\\n",
       "0  Movie     Henri Salvador       C'est beau de faire un Show   \n",
       "1  Movie  Martin & les fées  Perdu d'avance (par Gad Elmaleh)   \n",
       "2  Movie    Joseph Williams    Don't Let Me Be Lonely Tonight   \n",
       "3  Movie     Henri Salvador    Dis-moi Monsieur Gordon Cooper   \n",
       "4  Movie       Fabien Nataf                         Ouverture   \n",
       "\n",
       "                 track_id  popularity  acousticness  danceability  \\\n",
       "0  0BRjO6ga9RKCKjfDqeFgWV           0         0.611         0.389   \n",
       "1  0BjC1NfoEOOusryehmNudP           1         0.246         0.590   \n",
       "2  0CoSDzoNIKCRs124s9uTVy           3         0.952         0.663   \n",
       "3  0Gc6TVm52BwZD07Ki6tIvf           0         0.703         0.240   \n",
       "4  0IuslXpMROHdEPvSl1fTQK           4         0.950         0.331   \n",
       "\n",
       "   duration_ms  energy  instrumentalness key  liveness  loudness   mode  \\\n",
       "0        99373   0.910             0.000  C#    0.3460    -1.828  Major   \n",
       "1       137373   0.737             0.000  F#    0.1510    -5.559  Minor   \n",
       "2       170267   0.131             0.000   C    0.1030   -13.879  Minor   \n",
       "3       152427   0.326             0.000  C#    0.0985   -12.178  Major   \n",
       "4        82625   0.225             0.123   F    0.2020   -21.150  Major   \n",
       "\n",
       "   speechiness    tempo time_signature  valence  \n",
       "0       0.0525  166.969            4/4    0.814  \n",
       "1       0.0868  174.003            4/4    0.816  \n",
       "2       0.0362   99.488            5/4    0.368  \n",
       "3       0.0395  171.758            4/4    0.227  \n",
       "4       0.0456  140.576            4/4    0.390  "
      ]
     },
     "execution_count": 4,
     "metadata": {},
     "output_type": "execute_result"
    }
   ],
   "source": [
    "df.head(5)"
   ]
  },
  {
   "cell_type": "markdown",
   "id": "34147cb9",
   "metadata": {},
   "source": [
    "# Preprocessing\n",
    "\n",
    "Checking for missing/duplicate values."
   ]
  },
  {
   "cell_type": "code",
   "execution_count": 5,
   "id": "27883cbb",
   "metadata": {},
   "outputs": [
    {
     "data": {
      "text/plain": [
       "track_id\n",
       "False    176774\n",
       "True      55951\n",
       "Name: count, dtype: int64"
      ]
     },
     "execution_count": 5,
     "metadata": {},
     "output_type": "execute_result"
    }
   ],
   "source": [
    "df['track_id'].duplicated().value_counts()"
   ]
  },
  {
   "cell_type": "code",
   "execution_count": 6,
   "id": "a87c633c",
   "metadata": {},
   "outputs": [
    {
     "name": "stdout",
     "output_type": "stream",
     "text": [
      "<class 'pandas.core.frame.DataFrame'>\n",
      "Index: 176774 entries, 0 to 232724\n",
      "Data columns (total 18 columns):\n",
      " #   Column            Non-Null Count   Dtype  \n",
      "---  ------            --------------   -----  \n",
      " 0   genre             176774 non-null  object \n",
      " 1   artist_name       176774 non-null  object \n",
      " 2   track_name        176773 non-null  object \n",
      " 3   track_id          176774 non-null  object \n",
      " 4   popularity        176774 non-null  int64  \n",
      " 5   acousticness      176774 non-null  float64\n",
      " 6   danceability      176774 non-null  float64\n",
      " 7   duration_ms       176774 non-null  int64  \n",
      " 8   energy            176774 non-null  float64\n",
      " 9   instrumentalness  176774 non-null  float64\n",
      " 10  key               176774 non-null  object \n",
      " 11  liveness          176774 non-null  float64\n",
      " 12  loudness          176774 non-null  float64\n",
      " 13  mode              176774 non-null  object \n",
      " 14  speechiness       176774 non-null  float64\n",
      " 15  tempo             176774 non-null  float64\n",
      " 16  time_signature    176774 non-null  object \n",
      " 17  valence           176774 non-null  float64\n",
      "dtypes: float64(9), int64(2), object(7)\n",
      "memory usage: 25.6+ MB\n"
     ]
    }
   ],
   "source": [
    "df_duplicates = df[df['track_id'].duplicated() == True].index\n",
    "df.drop(df_duplicates, inplace=True)\n",
    "df.info()"
   ]
  },
  {
   "cell_type": "markdown",
   "id": "4e2d1985",
   "metadata": {},
   "source": [
    "We know there's a missing track name, so let's look into that."
   ]
  },
  {
   "cell_type": "code",
   "execution_count": 7,
   "id": "3341958b",
   "metadata": {},
   "outputs": [
    {
     "data": {
      "text/plain": [
       "track_name\n",
       "False    176773\n",
       "True          1\n",
       "Name: count, dtype: int64"
      ]
     },
     "execution_count": 7,
     "metadata": {},
     "output_type": "execute_result"
    }
   ],
   "source": [
    "df['track_name'].isna().value_counts()"
   ]
  },
  {
   "cell_type": "code",
   "execution_count": 8,
   "id": "5bbc408d",
   "metadata": {},
   "outputs": [
    {
     "data": {
      "text/html": [
       "<div>\n",
       "<style scoped>\n",
       "    .dataframe tbody tr th:only-of-type {\n",
       "        vertical-align: middle;\n",
       "    }\n",
       "\n",
       "    .dataframe tbody tr th {\n",
       "        vertical-align: top;\n",
       "    }\n",
       "\n",
       "    .dataframe thead th {\n",
       "        text-align: right;\n",
       "    }\n",
       "</style>\n",
       "<table border=\"1\" class=\"dataframe\">\n",
       "  <thead>\n",
       "    <tr style=\"text-align: right;\">\n",
       "      <th></th>\n",
       "      <th>genre</th>\n",
       "      <th>artist_name</th>\n",
       "      <th>track_name</th>\n",
       "      <th>track_id</th>\n",
       "      <th>popularity</th>\n",
       "      <th>acousticness</th>\n",
       "      <th>danceability</th>\n",
       "      <th>duration_ms</th>\n",
       "      <th>energy</th>\n",
       "      <th>instrumentalness</th>\n",
       "      <th>key</th>\n",
       "      <th>liveness</th>\n",
       "      <th>loudness</th>\n",
       "      <th>mode</th>\n",
       "      <th>speechiness</th>\n",
       "      <th>tempo</th>\n",
       "      <th>time_signature</th>\n",
       "      <th>valence</th>\n",
       "    </tr>\n",
       "  </thead>\n",
       "  <tbody>\n",
       "    <tr>\n",
       "      <th>208285</th>\n",
       "      <td>World</td>\n",
       "      <td>Elevation Worship</td>\n",
       "      <td>NaN</td>\n",
       "      <td>7BGQCe62A58Q5ZgpQFX93t</td>\n",
       "      <td>44</td>\n",
       "      <td>0.019</td>\n",
       "      <td>0.287</td>\n",
       "      <td>350027</td>\n",
       "      <td>0.446</td>\n",
       "      <td>0.0</td>\n",
       "      <td>F</td>\n",
       "      <td>0.1</td>\n",
       "      <td>-7.214</td>\n",
       "      <td>Major</td>\n",
       "      <td>0.0317</td>\n",
       "      <td>138.727</td>\n",
       "      <td>4/4</td>\n",
       "      <td>0.0387</td>\n",
       "    </tr>\n",
       "  </tbody>\n",
       "</table>\n",
       "</div>"
      ],
      "text/plain": [
       "        genre        artist_name track_name                track_id  \\\n",
       "208285  World  Elevation Worship        NaN  7BGQCe62A58Q5ZgpQFX93t   \n",
       "\n",
       "        popularity  acousticness  danceability  duration_ms  energy  \\\n",
       "208285          44         0.019         0.287       350027   0.446   \n",
       "\n",
       "        instrumentalness key  liveness  loudness   mode  speechiness    tempo  \\\n",
       "208285               0.0   F       0.1    -7.214  Major       0.0317  138.727   \n",
       "\n",
       "       time_signature  valence  \n",
       "208285            4/4   0.0387  "
      ]
     },
     "execution_count": 8,
     "metadata": {},
     "output_type": "execute_result"
    }
   ],
   "source": [
    "df[df['track_name'].isna() == True]"
   ]
  },
  {
   "cell_type": "markdown",
   "id": "0a07c3df",
   "metadata": {},
   "source": [
    "Presumably the track name is not literally \"NaN.\" A correlation between track name and popularity doesn't make much sense (maybe very long names are unmarketable and less popular for that reason?), so let's not worry about it."
   ]
  },
  {
   "cell_type": "markdown",
   "id": "cb8e04eb",
   "metadata": {},
   "source": [
    "# Investigation and EDA\n",
    "\n",
    "So what's in this dataset, anyway?"
   ]
  },
  {
   "cell_type": "code",
   "execution_count": 9,
   "id": "f8670bb5",
   "metadata": {},
   "outputs": [
    {
     "data": {
      "text/plain": [
       "genre\n",
       "Comedy              9674\n",
       "Electronic          9149\n",
       "Alternative         9095\n",
       "Anime               8935\n",
       "Classical           8711\n",
       "Reggae              8687\n",
       "Reggaeton           8549\n",
       "Blues               8496\n",
       "Soundtrack          8480\n",
       "Opera               8280\n",
       "Folk                8048\n",
       "Jazz                8039\n",
       "Ska                 8017\n",
       "Dance               7982\n",
       "World               7973\n",
       "Movie               7802\n",
       "Hip-Hop             7413\n",
       "Country             7383\n",
       "Children's Music    5402\n",
       "R&B                 5353\n",
       "Soul                4430\n",
       "Indie               3318\n",
       "Pop                 2417\n",
       "Rock                2227\n",
       "Rap                 1456\n",
       "Children’s Music    1339\n",
       "A Capella            119\n",
       "Name: count, dtype: int64"
      ]
     },
     "execution_count": 9,
     "metadata": {},
     "output_type": "execute_result"
    }
   ],
   "source": [
    "df['genre'].value_counts()"
   ]
  },
  {
   "cell_type": "markdown",
   "id": "10f98180",
   "metadata": {},
   "source": [
    "The project is specifically about \"song\" popularity. It's unclear that the data for \"Movie\" tracks counts, as those might be full-on movies (presumably soundtracks would be under \"Soundtrack\" instead). Let's leave it be for now."
   ]
  },
  {
   "cell_type": "code",
   "execution_count": 10,
   "id": "1fb9dbad",
   "metadata": {},
   "outputs": [
    {
     "data": {
      "image/png": "[encoded data removed]",
      "text/plain": [
       "<Figure size 1000x400 with 1 Axes>"
      ]
     },
     "metadata": {},
     "output_type": "display_data"
    }
   ],
   "source": [
    "df['popularity'].plot(title='Popularity Histogram', kind='hist', bins=100, figsize=(10, 4))\n",
    "plt.show()"
   ]
  },
  {
   "cell_type": "markdown",
   "id": "954ec1b9",
   "metadata": {},
   "source": [
    "There are a lot of songs with 0-ish popularity. Going by the histogram, you'd expect at most 1500ish, but there are over 6000! Zero popularity is apparently the most common. Is this evidence of missing data?"
   ]
  },
  {
   "cell_type": "code",
   "execution_count": 11,
   "id": "6fc08bc5",
   "metadata": {},
   "outputs": [
    {
     "data": {
      "text/plain": [
       "genre\n",
       "Children's Music    2966\n",
       "Movie               1733\n",
       "Classical            892\n",
       "Dance                109\n",
       "Opera                 92\n",
       "Country               63\n",
       "Jazz                  60\n",
       "Blues                 55\n",
       "Electronic            53\n",
       "Reggae                44\n",
       "Anime                 36\n",
       "Soul                  16\n",
       "A Capella             10\n",
       "Children’s Music       9\n",
       "Comedy                 8\n",
       "Alternative            7\n",
       "R&B                    6\n",
       "Folk                   6\n",
       "Soundtrack             3\n",
       "Reggaeton              1\n",
       "Rock                   1\n",
       "Name: count, dtype: int64"
      ]
     },
     "execution_count": 11,
     "metadata": {},
     "output_type": "execute_result"
    }
   ],
   "source": [
    "df[df['popularity'] == 0]['genre'].value_counts()"
   ]
  },
  {
   "cell_type": "markdown",
   "id": "e844e088",
   "metadata": {},
   "source": [
    "These entries are highly concentrated in three genres: children's music, \"movie\", and classical music. What genres appear most on the highly-populated end?"
   ]
  },
  {
   "cell_type": "code",
   "execution_count": 12,
   "id": "83e0180b",
   "metadata": {},
   "outputs": [
    {
     "data": {
      "text/plain": [
       "genre\n",
       "Dance               146\n",
       "Hip-Hop             116\n",
       "Pop                 107\n",
       "Rap                  62\n",
       "Reggaeton            25\n",
       "Rock                 17\n",
       "Folk                  4\n",
       "Indie                 4\n",
       "Children’s Music      3\n",
       "Alternative           2\n",
       "Soul                  2\n",
       "Electronic            1\n",
       "Movie                 1\n",
       "Country               1\n",
       "Name: count, dtype: int64"
      ]
     },
     "execution_count": 12,
     "metadata": {},
     "output_type": "execute_result"
    }
   ],
   "source": [
    "df[df['popularity'] > 80]['genre'].value_counts()"
   ]
  },
  {
   "cell_type": "markdown",
   "id": "b19820aa",
   "metadata": {},
   "source": [
    "Looks like pop, rap, dance, and hip-hop are popular with Spotify users, or at least in this subset of tracks. \n",
    "\n",
    "Spotify's API documentation has this to say about popularity:\n",
    "\n",
    "> The popularity of the track. The value will be between 0 and 100, with 100 being the most popular.\n",
    "The popularity of a track is a value between 0 and 100, with 100 being the most popular. The popularity is calculated by algorithm and is based, in the most part, on the total number of plays the track has had and how recent those plays are.\n",
    "Generally speaking, songs that are being played a lot now will have a higher popularity than songs that were played a lot in the past. Duplicate tracks (e.g. the same track from a single and an album) are rated independently. Artist and album popularity is derived mathematically from track popularity. Note: the popularity value may lag actual popularity by a few days: the value is not updated in real time.\n",
    "\n",
    "It stands to reason that there are likely many tracks on Spotify that don't get played often. Without further transparency about how their algorithm works, there's no particular reason to believe the outlier is indicative of missing data, aside from being an outlier itself. So we'll leave it untouched."
   ]
  },
  {
   "cell_type": "code",
   "execution_count": 13,
   "id": "c274845b",
   "metadata": {},
   "outputs": [
    {
     "data": {
      "text/plain": [
       "key  mode \n",
       "C    Major    16740\n",
       "G    Major    15625\n",
       "D    Major    14249\n",
       "C#   Major    11939\n",
       "A    Major    10718\n",
       "F    Major     9365\n",
       "G#   Major     8449\n",
       "B    Minor     6867\n",
       "E    Major     6791\n",
       "A    Minor     6781\n",
       "E    Minor     6617\n",
       "A#   Major     6434\n",
       "F    Minor     6240\n",
       "F#   Major     6132\n",
       "B    Major     6026\n",
       "A#   Minor     5490\n",
       "F#   Minor     5233\n",
       "C#   Minor     4917\n",
       "G    Minor     4851\n",
       "D    Minor     4394\n",
       "C    Minor     4230\n",
       "D#   Major     4151\n",
       "G#   Minor     2726\n",
       "D#   Minor     1809\n",
       "Name: count, dtype: int64"
      ]
     },
     "execution_count": 13,
     "metadata": {},
     "output_type": "execute_result"
    }
   ],
   "source": [
    "df[['key', 'mode']].value_counts()"
   ]
  },
  {
   "cell_type": "markdown",
   "id": "08bf9f6c",
   "metadata": {},
   "source": [
    "It strikes me as unlikely that musical key correlates to popularity (and it's likely ambiguous for some kinds of music anyway). But it is interesting to see how lopsided the representation is among Spotify's data. Our top 7 keys are all major keys, for starters.\n",
    "\n",
    "C major being common is unsurprising. It's the simplest major key from a theory perspective: no sharps, no flats. This would make it a very reasonable default to write in for keyboard-based instruments like pianos and synthesizers. \n",
    "\n",
    "G, D, and A make a lot of sense through the lens of guitar, which is also a very common instrument in popular genres.\n",
    "\n",
    "Three typical beginner guitar chords are G-C-D, corresponding to I-IV-V in G major. A guitarist that also knows the A major chord can then play D-G-A, which is the same chord progression in D major. Add the E chord, and you can get that progression in A major, using A-D-E.\n",
    "\n",
    "I am unsure how to explain the commonness of C#/Db major. "
   ]
  },
  {
   "cell_type": "code",
   "execution_count": 14,
   "id": "676aeb72",
   "metadata": {},
   "outputs": [
    {
     "data": {
      "text/plain": [
       "<Axes: title={'center': 'Time Signatures in Spotify Song Data'}, xlabel='time_signature'>"
      ]
     },
     "execution_count": 14,
     "metadata": {},
     "output_type": "execute_result"
    },
    {
     "data": {
      "image/png": "[encoded data removed]",
      "text/plain": [
       "<Figure size 1000x400 with 1 Axes>"
      ]
     },
     "metadata": {},
     "output_type": "display_data"
    }
   ],
   "source": [
    "df['time_signature'].value_counts().plot(title='Time Signatures in Spotify Song Data', \n",
    "                                         kind='bar', figsize=(10, 4))"
   ]
  },
  {
   "cell_type": "markdown",
   "id": "ef832685",
   "metadata": {},
   "source": [
    "The time signature data is also unsurprising. To explain to non-musicians, 4/4 represents music where every fourth beat is emphasized--the classic rock hit *Carry On Wayward Son* by Kansas is an example. If you can count \"one, two, three, four\" along to the music and have it line up, it's probably 4/4. A lot of dance music is in 4/4, because humans have two feet, so of course it makes sense that we'd want to have that music organized around an even number, right?\n",
    "\n",
    "Well, one well-known piece of music in 3/4 is also dance music: the Blue Danube Waltz by Johann Strauss! Though the tempo is a little flexible in that one, it's very easy to tell that its beats come in groups of three. A more modern example is *Piano Man* by Billy Joel. There's plenty of 3/4 music to go around, if not nearly as much as in 4/4.\n",
    "\n",
    "5/4 music is a lot more difficult to write well, so it's not surprising that it's a distant third. As for 1/4 and 0/4, perhaps those are meant to represent tracks with no obvious meter: ambient noise, or spoken audio like podcasts. Then again, those don't show up in our `genre` column."
   ]
  },
  {
   "cell_type": "code",
   "execution_count": 15,
   "id": "94daa5c1",
   "metadata": {},
   "outputs": [
    {
     "data": {
      "text/plain": [
       "genre\n",
       "Comedy              541\n",
       "Opera               334\n",
       "Classical           284\n",
       "Soundtrack          260\n",
       "Movie               177\n",
       "Anime                78\n",
       "World                77\n",
       "Folk                 74\n",
       "Jazz                 71\n",
       "Blues                66\n",
       "Children's Music     66\n",
       "Electronic           39\n",
       "Soul                 33\n",
       "Alternative          32\n",
       "R&B                  29\n",
       "Ska                  27\n",
       "Hip-Hop              26\n",
       "Country              23\n",
       "Dance                22\n",
       "Reggae               18\n",
       "Reggaeton            14\n",
       "Pop                  13\n",
       "Indie                12\n",
       "Rock                 11\n",
       "Children’s Music      7\n",
       "Rap                   6\n",
       "A Capella             5\n",
       "Name: count, dtype: int64"
      ]
     },
     "execution_count": 15,
     "metadata": {},
     "output_type": "execute_result"
    }
   ],
   "source": [
    "df[df['time_signature'] == '1/4']['genre'].value_counts()"
   ]
  },
  {
   "cell_type": "markdown",
   "id": "63cf2bd3",
   "metadata": {},
   "source": [
    "In any case, there's no immediately obvious pattern. Perhaps they're really missing data? Hard to say.\n",
    "\n",
    "The remaining features are largely numerical, so rather than go through them one by one, we can do a correlation matrix to check all of them at once:"
   ]
  },
  {
   "cell_type": "code",
   "execution_count": 16,
   "id": "e6283158",
   "metadata": {},
   "outputs": [
    {
     "name": "stdout",
     "output_type": "stream",
     "text": [
      "<class 'pandas.core.frame.DataFrame'>\n",
      "Index: 176774 entries, 0 to 232724\n",
      "Data columns (total 18 columns):\n",
      " #   Column            Non-Null Count   Dtype  \n",
      "---  ------            --------------   -----  \n",
      " 0   genre             176774 non-null  object \n",
      " 1   artist_name       176774 non-null  object \n",
      " 2   track_name        176773 non-null  object \n",
      " 3   track_id          176774 non-null  object \n",
      " 4   popularity        176774 non-null  int64  \n",
      " 5   acousticness      176774 non-null  float64\n",
      " 6   danceability      176774 non-null  float64\n",
      " 7   duration_ms       176774 non-null  int64  \n",
      " 8   energy            176774 non-null  float64\n",
      " 9   instrumentalness  176774 non-null  float64\n",
      " 10  key               176774 non-null  object \n",
      " 11  liveness          176774 non-null  float64\n",
      " 12  loudness          176774 non-null  float64\n",
      " 13  mode              176774 non-null  object \n",
      " 14  speechiness       176774 non-null  float64\n",
      " 15  tempo             176774 non-null  float64\n",
      " 16  time_signature    176774 non-null  object \n",
      " 17  valence           176774 non-null  float64\n",
      "dtypes: float64(9), int64(2), object(7)\n",
      "memory usage: 25.6+ MB\n"
     ]
    }
   ],
   "source": [
    "df.info()"
   ]
  },
  {
   "cell_type": "code",
   "execution_count": 17,
   "id": "f3b25bce",
   "metadata": {},
   "outputs": [],
   "source": [
    "df_numeric = df.select_dtypes(include=['int64', 'float64'])"
   ]
  },
  {
   "cell_type": "code",
   "execution_count": 18,
   "id": "00cfdf62",
   "metadata": {},
   "outputs": [
    {
     "name": "stdout",
     "output_type": "stream",
     "text": [
      "<class 'pandas.core.frame.DataFrame'>\n",
      "Index: 176774 entries, 0 to 232724\n",
      "Data columns (total 11 columns):\n",
      " #   Column            Non-Null Count   Dtype  \n",
      "---  ------            --------------   -----  \n",
      " 0   popularity        176774 non-null  int64  \n",
      " 1   acousticness      176774 non-null  float64\n",
      " 2   danceability      176774 non-null  float64\n",
      " 3   duration_ms       176774 non-null  int64  \n",
      " 4   energy            176774 non-null  float64\n",
      " 5   instrumentalness  176774 non-null  float64\n",
      " 6   liveness          176774 non-null  float64\n",
      " 7   loudness          176774 non-null  float64\n",
      " 8   speechiness       176774 non-null  float64\n",
      " 9   tempo             176774 non-null  float64\n",
      " 10  valence           176774 non-null  float64\n",
      "dtypes: float64(9), int64(2)\n",
      "memory usage: 16.2 MB\n"
     ]
    }
   ],
   "source": [
    "df_numeric.info()"
   ]
  },
  {
   "cell_type": "code",
   "execution_count": 19,
   "id": "7da3b19a",
   "metadata": {},
   "outputs": [
    {
     "data": {
      "image/png": "[encoded data removed]",
      "text/plain": [
       "<Figure size 800x800 with 1 Axes>"
      ]
     },
     "metadata": {},
     "output_type": "display_data"
    }
   ],
   "source": [
    "corr = df_numeric.corr()\n",
    "\n",
    "fig, ax = plt.subplots(figsize=(8, 8))\n",
    "ax.matshow(corr)\n",
    "plt.xticks(range(len(corr.columns)), corr.columns, rotation=90) # type: ignore\n",
    "plt.yticks(range(len(corr.columns)), corr.columns) # type: ignore\n",
    "plt.title(\"Correlation Heatmap for Spotify Data\")\n",
    "\n",
    "for i in range(len(corr.columns)):\n",
    "    for j in range(len(corr.columns)):\n",
    "        value = corr.iloc[i, j]\n",
    "        if not None:\n",
    "            plt.text(j, i, f\"{value:.2f}\", ha='center', va='center', color='black')\n",
    "plt.show()"
   ]
  },
  {
   "cell_type": "markdown",
   "id": "f25b0e7d",
   "metadata": {},
   "source": [
    "We can see correlations with the whole dataset here, but for simplicity let's pare the chart down to just the popularity correlations:"
   ]
  },
  {
   "cell_type": "code",
   "execution_count": 20,
   "id": "905a18ad",
   "metadata": {},
   "outputs": [
    {
     "data": {
      "image/png": "[encoded data removed]",
      "text/plain": [
       "<Figure size 1200x1200 with 1 Axes>"
      ]
     },
     "metadata": {},
     "output_type": "display_data"
    }
   ],
   "source": [
    "fig, ax = plt.subplots(figsize=(12, 12))\n",
    "ax.matshow(corr)\n",
    "ax.set_xlim(0.5, len(corr.columns)-0.5)\n",
    "ax.set_ylim(-0.5, 0.5)\n",
    "plt.style.use('seaborn-v0_8-colorblind') #more legible colors\n",
    "plt.xticks(range(1, len(corr.columns)), corr.columns[1:], rotation=90)\n",
    "plt.yticks(range(0, 1), corr.columns[:1])\n",
    "\n",
    "for i in range(0, 1):\n",
    "    for j in range(1, len(corr.columns)):\n",
    "        value = corr.iloc[i, j]\n",
    "        if not None:\n",
    "            plt.text(j, i, f\"{value:.2f}\", ha='center', va='center', color='black')\n",
    "plt.show()"
   ]
  },
  {
   "cell_type": "markdown",
   "id": "7530f582",
   "metadata": {},
   "source": [
    "Highly popular music tends to be loud, energetic, and danceable, but not very acoustic. Live, speechy, and instrumental tracks also tend to not do as well. None of these correlations are incredibly strong, but perhaps our model will pick up on them anyway."
   ]
  },
  {
   "cell_type": "code",
   "execution_count": 21,
   "id": "9eabb7fb",
   "metadata": {},
   "outputs": [
    {
     "name": "stdout",
     "output_type": "stream",
     "text": [
      "<class 'pandas.core.frame.DataFrame'>\n",
      "Index: 176774 entries, 0 to 232724\n",
      "Data columns (total 11 columns):\n",
      " #   Column            Non-Null Count   Dtype  \n",
      "---  ------            --------------   -----  \n",
      " 0   popularity        176774 non-null  int64  \n",
      " 1   acousticness      176774 non-null  float64\n",
      " 2   danceability      176774 non-null  float64\n",
      " 3   duration_ms       176774 non-null  int64  \n",
      " 4   energy            176774 non-null  float64\n",
      " 5   instrumentalness  176774 non-null  float64\n",
      " 6   liveness          176774 non-null  float64\n",
      " 7   loudness          176774 non-null  float64\n",
      " 8   speechiness       176774 non-null  float64\n",
      " 9   tempo             176774 non-null  float64\n",
      " 10  valence           176774 non-null  float64\n",
      "dtypes: float64(9), int64(2)\n",
      "memory usage: 16.2 MB\n"
     ]
    }
   ],
   "source": [
    "df.select_dtypes(include='number').info()"
   ]
  },
  {
   "cell_type": "code",
   "execution_count": 22,
   "id": "441ccc9e",
   "metadata": {},
   "outputs": [
    {
     "name": "stdout",
     "output_type": "stream",
     "text": [
      "<class 'pandas.core.frame.DataFrame'>\n",
      "Index: 176774 entries, 0 to 232724\n",
      "Data columns (total 7 columns):\n",
      " #   Column          Non-Null Count   Dtype \n",
      "---  ------          --------------   ----- \n",
      " 0   genre           176774 non-null  object\n",
      " 1   artist_name     176774 non-null  object\n",
      " 2   track_name      176773 non-null  object\n",
      " 3   track_id        176774 non-null  object\n",
      " 4   key             176774 non-null  object\n",
      " 5   mode            176774 non-null  object\n",
      " 6   time_signature  176774 non-null  object\n",
      "dtypes: object(7)\n",
      "memory usage: 10.8+ MB\n"
     ]
    }
   ],
   "source": [
    "df.select_dtypes(include='object').info()"
   ]
  },
  {
   "cell_type": "markdown",
   "id": "2be6e750",
   "metadata": {},
   "source": [
    "### Preprocessing and \"Sanity Checks\"\n",
    "\n",
    "There are two general parts of the data that need treatment separately: numerical and categorical data. The former will need standardized, so that features with wider ranges are not given overwhelming weight. The latter will need one-hot encoded so that it can be treated in the same fashion as numerical data."
   ]
  },
  {
   "cell_type": "markdown",
   "id": "a2ee0f2f",
   "metadata": {},
   "source": [
    "In the course of making this document, I discovered that `duration_ms` contains massive mathematical outliers that actually throw off our training code. For that reason, we'll cut anything over ten minutes long, which is less than 1% of our data:"
   ]
  },
  {
   "cell_type": "code",
   "execution_count": 23,
   "id": "5885fac4",
   "metadata": {},
   "outputs": [
    {
     "data": {
      "text/html": [
       "<div>\n",
       "<style scoped>\n",
       "    .dataframe tbody tr th:only-of-type {\n",
       "        vertical-align: middle;\n",
       "    }\n",
       "\n",
       "    .dataframe tbody tr th {\n",
       "        vertical-align: top;\n",
       "    }\n",
       "\n",
       "    .dataframe thead th {\n",
       "        text-align: right;\n",
       "    }\n",
       "</style>\n",
       "<table border=\"1\" class=\"dataframe\">\n",
       "  <thead>\n",
       "    <tr style=\"text-align: right;\">\n",
       "      <th></th>\n",
       "      <th>popularity</th>\n",
       "      <th>acousticness</th>\n",
       "      <th>danceability</th>\n",
       "      <th>duration_ms</th>\n",
       "      <th>energy</th>\n",
       "      <th>instrumentalness</th>\n",
       "      <th>liveness</th>\n",
       "      <th>loudness</th>\n",
       "      <th>speechiness</th>\n",
       "      <th>tempo</th>\n",
       "      <th>valence</th>\n",
       "    </tr>\n",
       "  </thead>\n",
       "  <tbody>\n",
       "    <tr>\n",
       "      <th>count</th>\n",
       "      <td>174722.000000</td>\n",
       "      <td>174722.000000</td>\n",
       "      <td>174722.000000</td>\n",
       "      <td>174722.000000</td>\n",
       "      <td>174722.000000</td>\n",
       "      <td>174722.000000</td>\n",
       "      <td>174722.000000</td>\n",
       "      <td>174722.000000</td>\n",
       "      <td>174722.000000</td>\n",
       "      <td>174722.000000</td>\n",
       "      <td>174722.000000</td>\n",
       "    </tr>\n",
       "    <tr>\n",
       "      <th>mean</th>\n",
       "      <td>36.400774</td>\n",
       "      <td>0.400307</td>\n",
       "      <td>0.543295</td>\n",
       "      <td>227901.604280</td>\n",
       "      <td>0.559530</td>\n",
       "      <td>0.169063</td>\n",
       "      <td>0.223840</td>\n",
       "      <td>-10.062664</td>\n",
       "      <td>0.126428</td>\n",
       "      <td>117.365147</td>\n",
       "      <td>0.454159</td>\n",
       "    </tr>\n",
       "    <tr>\n",
       "      <th>std</th>\n",
       "      <td>17.389745</td>\n",
       "      <td>0.365098</td>\n",
       "      <td>0.189298</td>\n",
       "      <td>86630.935115</td>\n",
       "      <td>0.274724</td>\n",
       "      <td>0.320757</td>\n",
       "      <td>0.209927</td>\n",
       "      <td>6.351916</td>\n",
       "      <td>0.202227</td>\n",
       "      <td>31.326844</td>\n",
       "      <td>0.267183</td>\n",
       "    </tr>\n",
       "    <tr>\n",
       "      <th>min</th>\n",
       "      <td>0.000000</td>\n",
       "      <td>0.000000</td>\n",
       "      <td>0.057000</td>\n",
       "      <td>15387.000000</td>\n",
       "      <td>0.000020</td>\n",
       "      <td>0.000000</td>\n",
       "      <td>0.009670</td>\n",
       "      <td>-52.457000</td>\n",
       "      <td>0.022200</td>\n",
       "      <td>30.379000</td>\n",
       "      <td>0.000000</td>\n",
       "    </tr>\n",
       "    <tr>\n",
       "      <th>25%</th>\n",
       "      <td>25.000000</td>\n",
       "      <td>0.044500</td>\n",
       "      <td>0.418000</td>\n",
       "      <td>177600.000000</td>\n",
       "      <td>0.349000</td>\n",
       "      <td>0.000000</td>\n",
       "      <td>0.097600</td>\n",
       "      <td>-12.713000</td>\n",
       "      <td>0.036800</td>\n",
       "      <td>92.043000</td>\n",
       "      <td>0.226000</td>\n",
       "    </tr>\n",
       "    <tr>\n",
       "      <th>50%</th>\n",
       "      <td>37.000000</td>\n",
       "      <td>0.282000</td>\n",
       "      <td>0.560000</td>\n",
       "      <td>218587.000000</td>\n",
       "      <td>0.595000</td>\n",
       "      <td>0.000065</td>\n",
       "      <td>0.130000</td>\n",
       "      <td>-8.138000</td>\n",
       "      <td>0.049500</td>\n",
       "      <td>115.049500</td>\n",
       "      <td>0.444000</td>\n",
       "    </tr>\n",
       "    <tr>\n",
       "      <th>75%</th>\n",
       "      <td>49.000000</td>\n",
       "      <td>0.784000</td>\n",
       "      <td>0.684000</td>\n",
       "      <td>266078.000000</td>\n",
       "      <td>0.790000</td>\n",
       "      <td>0.080300</td>\n",
       "      <td>0.276000</td>\n",
       "      <td>-5.609000</td>\n",
       "      <td>0.102000</td>\n",
       "      <td>139.007000</td>\n",
       "      <td>0.669000</td>\n",
       "    </tr>\n",
       "    <tr>\n",
       "      <th>max</th>\n",
       "      <td>100.000000</td>\n",
       "      <td>0.996000</td>\n",
       "      <td>0.989000</td>\n",
       "      <td>600000.000000</td>\n",
       "      <td>0.999000</td>\n",
       "      <td>0.999000</td>\n",
       "      <td>1.000000</td>\n",
       "      <td>3.744000</td>\n",
       "      <td>0.967000</td>\n",
       "      <td>242.903000</td>\n",
       "      <td>1.000000</td>\n",
       "    </tr>\n",
       "  </tbody>\n",
       "</table>\n",
       "</div>"
      ],
      "text/plain": [
       "          popularity   acousticness   danceability    duration_ms  \\\n",
       "count  174722.000000  174722.000000  174722.000000  174722.000000   \n",
       "mean       36.400774       0.400307       0.543295  227901.604280   \n",
       "std        17.389745       0.365098       0.189298   86630.935115   \n",
       "min         0.000000       0.000000       0.057000   15387.000000   \n",
       "25%        25.000000       0.044500       0.418000  177600.000000   \n",
       "50%        37.000000       0.282000       0.560000  218587.000000   \n",
       "75%        49.000000       0.784000       0.684000  266078.000000   \n",
       "max       100.000000       0.996000       0.989000  600000.000000   \n",
       "\n",
       "              energy  instrumentalness       liveness       loudness  \\\n",
       "count  174722.000000     174722.000000  174722.000000  174722.000000   \n",
       "mean        0.559530          0.169063       0.223840     -10.062664   \n",
       "std         0.274724          0.320757       0.209927       6.351916   \n",
       "min         0.000020          0.000000       0.009670     -52.457000   \n",
       "25%         0.349000          0.000000       0.097600     -12.713000   \n",
       "50%         0.595000          0.000065       0.130000      -8.138000   \n",
       "75%         0.790000          0.080300       0.276000      -5.609000   \n",
       "max         0.999000          0.999000       1.000000       3.744000   \n",
       "\n",
       "         speechiness          tempo        valence  \n",
       "count  174722.000000  174722.000000  174722.000000  \n",
       "mean        0.126428     117.365147       0.454159  \n",
       "std         0.202227      31.326844       0.267183  \n",
       "min         0.022200      30.379000       0.000000  \n",
       "25%         0.036800      92.043000       0.226000  \n",
       "50%         0.049500     115.049500       0.444000  \n",
       "75%         0.102000     139.007000       0.669000  \n",
       "max         0.967000     242.903000       1.000000  "
      ]
     },
     "execution_count": 23,
     "metadata": {},
     "output_type": "execute_result"
    }
   ],
   "source": [
    "max_duration_ms = 10 * 60 * 1000\n",
    "outlier_durations = df[df['duration_ms'] > max_duration_ms]\n",
    "df.drop(outlier_durations.index, inplace=True)\n",
    "df.describe()\n"
   ]
  },
  {
   "cell_type": "markdown",
   "id": "1cef7903",
   "metadata": {},
   "source": [
    "There are a few categories I don't plan to train on, so let's drop those, then separate out the target column as well:"
   ]
  },
  {
   "cell_type": "code",
   "execution_count": 24,
   "id": "8b8d89d0",
   "metadata": {},
   "outputs": [
    {
     "name": "stdout",
     "output_type": "stream",
     "text": [
      "<class 'pandas.core.frame.DataFrame'>\n",
      "Index: 174722 entries, 0 to 232724\n",
      "Data columns (total 14 columns):\n",
      " #   Column            Non-Null Count   Dtype  \n",
      "---  ------            --------------   -----  \n",
      " 0   genre             174722 non-null  object \n",
      " 1   acousticness      174722 non-null  float64\n",
      " 2   danceability      174722 non-null  float64\n",
      " 3   duration_ms       174722 non-null  int64  \n",
      " 4   energy            174722 non-null  float64\n",
      " 5   instrumentalness  174722 non-null  float64\n",
      " 6   key               174722 non-null  object \n",
      " 7   liveness          174722 non-null  float64\n",
      " 8   loudness          174722 non-null  float64\n",
      " 9   mode              174722 non-null  object \n",
      " 10  speechiness       174722 non-null  float64\n",
      " 11  tempo             174722 non-null  float64\n",
      " 12  time_signature    174722 non-null  object \n",
      " 13  valence           174722 non-null  float64\n",
      "dtypes: float64(9), int64(1), object(4)\n",
      "memory usage: 20.0+ MB\n"
     ]
    }
   ],
   "source": [
    "df.drop(['artist_name', 'track_name', 'track_id'], inplace=True, axis='columns')\n",
    "\n",
    "features = df.drop('popularity', axis='columns')\n",
    "target = df['popularity']\n",
    "features.info()"
   ]
  },
  {
   "cell_type": "markdown",
   "id": "f1bc9139",
   "metadata": {},
   "source": [
    "One-hot encoding is generally done before the data is split into training and test sets, so:"
   ]
  },
  {
   "cell_type": "code",
   "execution_count": 25,
   "id": "4d856e8f",
   "metadata": {},
   "outputs": [],
   "source": [
    "features_numeric = features.select_dtypes(include='number')\n",
    "features_string = features.select_dtypes(include='object')\n",
    "\n",
    "features_string_ohe = pd.get_dummies(features_string, drop_first=True, dtype='int64')\n",
    "# features_ohe = pd.merge(left=features.drop(features_string.columns, axis='columns'), right=features_string_ohe, how='outer', on=features.index)\n",
    "features_ohe = features_string_ohe.join(features_numeric)\n",
    "\n",
    "features_train, features_test, target_train, target_test = train_test_split(\n",
    "    features_ohe, target, test_size = 0.2, random_state = 12345\n",
    ")"
   ]
  },
  {
   "cell_type": "markdown",
   "id": "070b1d55",
   "metadata": {},
   "source": [
    "One-hot encoding breaks out every category into a binary belongs-or-doesn't column of its own.\n",
    "\n",
    "Standardization is slightly more complicated: it rescales the numerical features to have a mean of 0 and a standard deviation of 1. We can't do it prior to the train-test split, because that would be a case of data leakage: the test data would be affecting the training data directly, which defeats the purpose of keeping it separate in the first place. Instead we scale just on the training set:"
   ]
  },
  {
   "cell_type": "code",
   "execution_count": 26,
   "id": "0e61d847",
   "metadata": {},
   "outputs": [],
   "source": [
    "# StandardScaler for numerical features\n",
    "scaler = StandardScaler()\n",
    "\n",
    "#get only the numeric features and only from what made it into the training set\n",
    "features_numeric_train = features_train[features_numeric.columns]\n",
    "scaler.fit(features_numeric_train)\n",
    "# get the numeric features from the test set\n",
    "features_numeric_test = features_test[features_numeric.columns]\n",
    "\n",
    "# scale the training set\n",
    "features_train[features_numeric_train.columns] = scaler.transform(features_numeric_train)\n",
    "# scale the test set\n",
    "features_test[features_numeric_test.columns] = scaler.transform(features_numeric_test)"
   ]
  },
  {
   "cell_type": "markdown",
   "id": "978c86d8",
   "metadata": {},
   "source": [
    "We'll also want to have a scaled version of the target data. This will impact the neural network training later on. \n",
    "\n",
    "StandardScaler has a quirk: it doesn't work on one-dimensional data. So we use `reshape()` to convert it into a 2D array, then `flatten()` for later consumption by torch."
   ]
  },
  {
   "cell_type": "code",
   "execution_count": 27,
   "id": "b475a3d0",
   "metadata": {},
   "outputs": [],
   "source": [
    "target_scaler = StandardScaler()\n",
    "target_scaler.fit(target_train.values.reshape(-1,1))\n",
    "target_train_scaled = target_scaler.transform(target_train.values.reshape(-1,1)).flatten()\n",
    "target_test_scaled = target_scaler.transform(target_test.values.reshape(-1,1)).flatten()"
   ]
  },
  {
   "cell_type": "markdown",
   "id": "e608935c",
   "metadata": {},
   "source": [
    "In order to see how good our neural network will be, we need a base of comparison. A linear regression is a fast-to-calculate, relatively simple model.\n",
    "\n",
    "Per the project instructions, our metric is Mean Squared Error (MSE). It's an average of the squares of the error of every prediction the model makes against the test features. This means (unlike Mean Absolute Error, which just uses absolute values of errors) that we'll treat large mistakes with extra severity when scoring the model.\n",
    "\n",
    "However, MSE is a little difficult to interpret because the scale becomes pretty big. MAE, by comparison, just means \"expect the model to be off by about this much on average\". It's common to take the square root of MSE, which gives you a metric called Root Mean Squared Error (RMSE). This tends to be close to MAE, especially in cases where the model's error is low-variance. I've included it just for interpretability's sake.\n",
    "\n",
    "Below we'll create a constant model, i.e. \"just guess the mean every time,\" and a linear regression."
   ]
  },
  {
   "cell_type": "code",
   "execution_count": 28,
   "id": "2be30ceb",
   "metadata": {},
   "outputs": [
    {
     "name": "stdout",
     "output_type": "stream",
     "text": [
      "Constant model MSE:  302.333217364881\n",
      "Constant model RMSE:  17.387731806215584\n",
      "Linear regression MSE:  94.50829893871058\n",
      "Linear regression RMSE:  9.721537889588795\n"
     ]
    }
   ],
   "source": [
    "#constant model\n",
    "const_pred = np.full(target_test.shape, fill_value=target_train.mean())\n",
    "const_mse = mse(target_test, const_pred)\n",
    "print('Constant model MSE: ', const_mse)\n",
    "print('Constant model RMSE: ', const_mse ** 0.5)\n",
    "\n",
    "#linear regression model\n",
    "lreg = LinearRegression()\n",
    "lreg.fit(features_train, target_train)\n",
    "lreg_pred = lreg.predict(features_test)\n",
    "lreg_mse = mse(target_test, lreg_pred)\n",
    "print('Linear regression MSE: ', lreg_mse)\n",
    "print('Linear regression RMSE: ', lreg_mse ** 0.5)"
   ]
  },
  {
   "cell_type": "markdown",
   "id": "a6d0bfb5",
   "metadata": {},
   "source": [
    "So you can expect the linear regression's prediction to be within 9 or 10 points of the truth. Meanwhile, a constant model gets about a 17.4 RMSE for the same data. Can a neural network do better?\n",
    "\n",
    "# Torch\n",
    "\n",
    "PyTorch, or `torch`, is a framework for creating and training neural networks. Those are pretty computationally expensive, so one of the first things we'll do is check if a GPU is available:"
   ]
  },
  {
   "cell_type": "code",
   "execution_count": 29,
   "id": "7430ee1f",
   "metadata": {},
   "outputs": [
    {
     "name": "stdout",
     "output_type": "stream",
     "text": [
      "CUDA-compatible device detected\n",
      "Using:  cuda\n"
     ]
    }
   ],
   "source": [
    "if torch.cuda.is_available():\n",
    "    device = torch.device('cuda')\n",
    "    print('CUDA-compatible device detected')\n",
    "else: \n",
    "    device = torch.device('cpu')\n",
    "print('Using: ', device)"
   ]
  },
  {
   "cell_type": "markdown",
   "id": "a01faae4",
   "metadata": {},
   "source": [
    "Luckily we've got a CUDA-enabled device available.\n",
    "\n",
    "For the neural network's input layer, we want one neuron for each feature. The output layer will be a single neuron, representing the target. \n",
    "\n",
    "We also are going to need to convert our DataFrames into tensors, which is the data format `torch` operates on. A tensor is effectively the same as a vector or matrix, in that it's a collection of numbers, but with an arbitrary amount of dimensions rather than one or two respectively."
   ]
  },
  {
   "cell_type": "code",
   "execution_count": 30,
   "id": "df959836",
   "metadata": {},
   "outputs": [
    {
     "name": "stdout",
     "output_type": "stream",
     "text": [
      "52\n"
     ]
    },
    {
     "name": "stdout",
     "output_type": "stream",
     "text": [
      "tensor([ 0.6090,  0.0340, -2.0937,  ...,  0.1490, -1.2886,  0.7240],\n",
      "       device='cuda:0')\n"
     ]
    }
   ],
   "source": [
    "feature_count = features_train.shape[1]\n",
    "# convert data to pytorch tensors\n",
    "features_train_tensor = torch.from_numpy(features_train.values).float().to(device)\n",
    "features_test_tensor = torch.from_numpy(features_test.values).float().to(device)\n",
    "target_train_tensor = torch.from_numpy(target_train_scaled).float().to(device)\n",
    "target_test_tensor = torch.from_numpy(target_test_scaled).float().to(device)\n",
    "\n",
    "print(feature_count)\n",
    "print(target_train_tensor)"
   ]
  },
  {
   "cell_type": "markdown",
   "id": "a2ffd6c6",
   "metadata": {},
   "source": [
    "Following along with pytorch.org's tutorial, we create a NeuralNetwork class. After doing some reading on the subject, I decided to start by leaving the hidden layers of neurons the same size as the input layers."
   ]
  },
  {
   "cell_type": "code",
   "execution_count": 31,
   "id": "6f6ad21c",
   "metadata": {},
   "outputs": [],
   "source": [
    "# defining NeuralNetwork class as described in pytorch.org tutorial\n",
    "\n",
    "class NeuralNetwork(nn.Module):\n",
    "    def __init__(self):\n",
    "        super().__init__()\n",
    "        activate = nn.SiLU\n",
    "        dropout = 0.1\n",
    "        self.flatten = nn.Flatten()\n",
    "        self.linear_relu_stack = nn.Sequential(\n",
    "            nn.Linear(feature_count, feature_count // 2),\n",
    "            activate(),\n",
    "            nn.Dropout(dropout), #randomly sets % of neurons to zero--an anti-overfitting strategy\n",
    "            nn.Linear(feature_count // 2, 1),\n",
    "        )\n",
    "\n",
    "    def forward(self, x):\n",
    "        x = self.flatten(x)\n",
    "        logits = self.linear_relu_stack(x)\n",
    "        return logits"
   ]
  },
  {
   "cell_type": "markdown",
   "id": "e52ae825",
   "metadata": {},
   "source": [
    "We'll instantiate a model, define our loss function, and define our optimizer. Adam is a fairly common optimizer for neural network applications.\n",
    "\n",
    "We'll also store `n_iter` here, which (for now) will arbitrarily cap how many epochs we train the model for. We'll also set up a learning rate scheduler, which changes the learning rate of the neural network over time. This helps mitigate the drawbacks of both higher learning rates (large step size, unable to settle into optimal point easily) and lower learning rates (long convergence time, chance of finding local minima)."
   ]
  },
  {
   "cell_type": "code",
   "execution_count": 32,
   "id": "2fdbff2a",
   "metadata": {},
   "outputs": [],
   "source": [
    "model = NeuralNetwork().to(device)\n",
    "# def init_weights(m):\n",
    "#     if isinstance(m, nn.Linear):\n",
    "#         torch.nn.init.xavier_normal_(m.weight)\n",
    "#         m.bias.data.fill_(0.01)\n",
    "\n",
    "# model.apply(init_weights)\n",
    "\n",
    "n_iter = 5000\n",
    "loss_fn = nn.MSELoss()\n",
    "learning_rate = 0.1\n",
    "# optimizer = torch.optim.SGD(model.parameters(), lr=learning_rate, momentum=0.9, weight_decay=0.001)\n",
    "optimizer = torch.optim.Adam(model.parameters(), lr=learning_rate)\n",
    "scheduler = torch.optim.lr_scheduler.MultiStepLR(optimizer, milestones=[10, 100, 1000], gamma=0.5)"
   ]
  },
  {
   "cell_type": "code",
   "execution_count": 33,
   "id": "41c5b6a6",
   "metadata": {},
   "outputs": [
    {
     "name": "stdout",
     "output_type": "stream",
     "text": [
      "Beginning training\n",
      "Epoch 100\tTrain Loss: 0.3093250095844269\tVal Loss:0.3062494993209839\n",
      "Epoch 200\tTrain Loss: 0.303815096616745\tVal Loss:0.3024671971797943\n",
      "Epoch 300\tTrain Loss: 0.30244818329811096\tVal Loss:0.3016595244407654\n",
      "Epoch 400\tTrain Loss: 0.30088508129119873\tVal Loss:0.3006478250026703\n",
      "Epoch 500\tTrain Loss: 0.29985907673835754\tVal Loss:0.3000281751155853\n",
      "Epoch 600\tTrain Loss: 0.2998279929161072\tVal Loss:0.2996629774570465\n",
      "Epoch 700\tTrain Loss: 0.2988685369491577\tVal Loss:0.2994619905948639\n",
      "Epoch 800\tTrain Loss: 0.2994306981563568\tVal Loss:0.2993578016757965\n",
      "Epoch 900\tTrain Loss: 0.29785528779029846\tVal Loss:0.29949015378952026\n",
      "Epoch 1000\tTrain Loss: 0.29758894443511963\tVal Loss:0.29936596751213074\n",
      "Epoch 1100\tTrain Loss: 0.2976011335849762\tVal Loss:0.29907551407814026\n",
      "Epoch 1200\tTrain Loss: 0.30175256729125977\tVal Loss:0.3008671998977661\n",
      "Epoch 1300\tTrain Loss: 0.29990214109420776\tVal Loss:0.3032956123352051\n",
      "Epoch 1400\tTrain Loss: 0.29754719138145447\tVal Loss:0.29883313179016113\n",
      "Epoch 1500\tTrain Loss: 0.2972366213798523\tVal Loss:0.29871970415115356\n",
      "Epoch 1600\tTrain Loss: 0.29833394289016724\tVal Loss:0.29942718148231506\n",
      "Epoch 1700\tTrain Loss: 0.29755285382270813\tVal Loss:0.29856306314468384\n",
      "Epoch 1800\tTrain Loss: 0.296817421913147\tVal Loss:0.2988806664943695\n",
      "Epoch 1900\tTrain Loss: 0.29727572202682495\tVal Loss:0.2996077537536621\n",
      "Epoch 2000\tTrain Loss: 0.2974281311035156\tVal Loss:0.29998481273651123\n",
      "Epoch 2100\tTrain Loss: 0.2965507507324219\tVal Loss:0.2986467480659485\n",
      "Epoch 2200\tTrain Loss: 0.30001044273376465\tVal Loss:0.29937344789505005\n",
      "Epoch 2300\tTrain Loss: 0.2980589270591736\tVal Loss:0.2988470792770386\n",
      "Epoch 2400\tTrain Loss: 0.2969937026500702\tVal Loss:0.29861658811569214\n",
      "Epoch 2500\tTrain Loss: 0.29771992564201355\tVal Loss:0.2995914816856384\n",
      "Epoch 2600\tTrain Loss: 0.2967670261859894\tVal Loss:0.298703670501709\n",
      "Epoch 2700\tTrain Loss: 0.2976536750793457\tVal Loss:0.29951727390289307\n",
      "Epoch 2800\tTrain Loss: 0.2978118658065796\tVal Loss:0.2997053563594818\n",
      "Epoch 2900\tTrain Loss: 0.2975911498069763\tVal Loss:0.29958948493003845\n",
      "Epoch 3000\tTrain Loss: 0.29795408248901367\tVal Loss:0.2988293468952179\n",
      "Epoch 3100\tTrain Loss: 0.30055123567581177\tVal Loss:0.29896530508995056\n",
      "Epoch 3200\tTrain Loss: 0.2964160740375519\tVal Loss:0.2985087037086487\n",
      "Epoch 3300\tTrain Loss: 0.29788798093795776\tVal Loss:0.2988448441028595\n",
      "Epoch 3400\tTrain Loss: 0.29802441596984863\tVal Loss:0.29964303970336914\n",
      "Epoch 3500\tTrain Loss: 0.2973420321941376\tVal Loss:0.2987009584903717\n",
      "Epoch 3600\tTrain Loss: 0.29682478308677673\tVal Loss:0.29877668619155884\n",
      "Epoch 3700\tTrain Loss: 0.29683512449264526\tVal Loss:0.2986263334751129\n",
      "Epoch 3800\tTrain Loss: 0.29973915219306946\tVal Loss:0.3001387119293213\n",
      "Epoch 3900\tTrain Loss: 0.2976533770561218\tVal Loss:0.2985112965106964\n",
      "Epoch 4000\tTrain Loss: 0.2972051203250885\tVal Loss:0.29931795597076416\n",
      "Epoch 4100\tTrain Loss: 0.29983094334602356\tVal Loss:0.3010116517543793\n",
      "Epoch 4200\tTrain Loss: 0.2968745529651642\tVal Loss:0.29898563027381897\n",
      "Epoch 4300\tTrain Loss: 0.29642993211746216\tVal Loss:0.2983745038509369\n",
      "Epoch 4400\tTrain Loss: 0.29762107133865356\tVal Loss:0.2988010346889496\n",
      "Epoch 4500\tTrain Loss: 0.30012544989585876\tVal Loss:0.2997807562351227\n",
      "Epoch 4600\tTrain Loss: 0.2978632152080536\tVal Loss:0.2995181381702423\n",
      "Epoch 4700\tTrain Loss: 0.2968508303165436\tVal Loss:0.29844197630882263\n",
      "Epoch 4800\tTrain Loss: 0.29700833559036255\tVal Loss:0.29859358072280884\n",
      "Epoch 4900\tTrain Loss: 0.3865059018135071\tVal Loss:0.38805878162384033\n",
      "Epoch 5000\tTrain Loss: 0.2974846065044403\tVal Loss:0.2986665368080139\n",
      "Lowest loss epoch:\t 2667\n",
      "Lowest loss score:\t 0.29585951566696167\n",
      "V-loss for that epoch:\t 0.29849687218666077\n",
      "\n",
      "Initial learning rate: 0.1\n",
      "Final learning rate: [0.1]\n"
     ]
    }
   ],
   "source": [
    "print(\"Beginning training\")\n",
    "grad_norms = []\n",
    "clip_threshold = None\n",
    "\n",
    "lowest_loss_score = 10000\n",
    "lowest_loss_val = 10000\n",
    "lowest_loss_epoch = 0\n",
    "lowest_loss_pred = None\n",
    "\n",
    "for epoch in range(1, n_iter+1):\n",
    "    model.train() # enables dropout if model.eval() is triggered\n",
    "    optimizer.zero_grad()\n",
    "    outputs = model(features_train_tensor)\n",
    "    loss = loss_fn(outputs.squeeze(), target_train_tensor)    \n",
    "\n",
    "    if (epoch % 100 == 0):\n",
    "        model.eval()  # Set to evaluation mode (disables dropout)\n",
    "        with torch.no_grad():  # Disable gradient computation\n",
    "            val_outputs = model(features_test_tensor)\n",
    "            val_loss = loss_fn(val_outputs.squeeze(), target_test_tensor)\n",
    "            val_loss_value = val_loss.item()\n",
    "        print(f'Epoch {epoch}\\tTrain Loss: {train_loss_value}\\tVal Loss:{val_loss_value}')\n",
    "\n",
    "    #handle scheduler\n",
    "    # old_lr = optimizer.param_groups[0]['lr']\n",
    "    # scheduler.step()\n",
    "    # new_lr = optimizer.param_groups[0]['lr']\n",
    "    # if (new_lr != old_lr):\n",
    "    #     print(f'Learning rate reduced from {old_lr} to {new_lr}')\n",
    "        \n",
    "    train_loss_value = loss.item()\n",
    "\n",
    "    if (train_loss_value < lowest_loss_score):\n",
    "        lowest_loss_epoch = epoch\n",
    "        lowest_loss_score = train_loss_value\n",
    "        # save predictions from this epoch\n",
    "        model.eval()\n",
    "        with torch.no_grad():  # Disable gradient computation\n",
    "            val_outputs = model(features_test_tensor)\n",
    "            val_loss = loss_fn(val_outputs.squeeze(), target_test_tensor)\n",
    "            lowest_loss_val = val_loss.item()\n",
    "            lowest_loss_test_pred = val_outputs\n",
    "\n",
    "    \n",
    "    loss.backward()\n",
    "    # diagnose gradient explosion, which can cause sudden spikes in the loss function\n",
    "    # grad_norm = nn.utils.clip_grad_norm_(model.parameters(), float('inf'))\n",
    "    # if (epoch % 1000 == 0):\n",
    "    #     print(f'Gradient norm at epoch {epoch}: ', {grad_norm})\n",
    "    \n",
    "    # # track recent gradient norms\n",
    "    # grad_norms.append(grad_norm.item())\n",
    "    # if (len(grad_norms) > 200):\n",
    "    #     grad_norms.pop(0)\n",
    "\n",
    "    # # gradient clipping based on above gradient norm measurements\n",
    "    # if (epoch > 100):\n",
    "    #     clip_threshold = np.median(grad_norms)\n",
    "    #     # Always apply clipping\n",
    "    #     nn.utils.clip_grad_norm_(model.parameters(), max_norm=clip_threshold)\n",
    "    #     if (epoch % 1000 == 0):\n",
    "    #         print(f'Clipping threshold currently: {clip_threshold}')\n",
    "\n",
    "    optimizer.step()\n",
    "\n",
    "print('Lowest loss epoch:\\t', lowest_loss_epoch)\n",
    "print('Lowest loss score:\\t', lowest_loss_score)\n",
    "print('V-loss for that epoch:\\t', lowest_loss_val)\n",
    "\n",
    "print('\\nInitial learning rate:', learning_rate)\n",
    "print('Final learning rate:', scheduler.get_last_lr()) # final learning rate if you're curious"
   ]
  },
  {
   "cell_type": "markdown",
   "id": "02c9e067",
   "metadata": {},
   "source": [
    "We can see that the neural network makes pretty miniscule improvements after the first few hundred epochs. This was largely the trend even if it runs for tens of thousands of epochs: it's hard to do much better than we got around 200 epochs in. Since the validation score didn't start increasing noticeably, we didn't overfit, at least."
   ]
  },
  {
   "cell_type": "code",
   "execution_count": 34,
   "id": "c3b96cdd",
   "metadata": {},
   "outputs": [
    {
     "name": "stdout",
     "output_type": "stream",
     "text": [
      "\n",
      "Final prediction unscaled results:\n",
      "Validation MSE: \t 90.33643312494088\n",
      "Validation RMSE:\t 9.504548023180318\n",
      "\n",
      "Best run prediction unscaled results:\n",
      "Validation MSE: \t 90.27101692401573\n",
      "Validation RMSE:\t 9.501106089504301\n"
     ]
    }
   ],
   "source": [
    "# Unscale predictions and get final score\n",
    "predictions_scaled = model(features_test_tensor)\n",
    "nn_pred = target_scaler.inverse_transform(predictions_scaled.cpu().detach().numpy())\n",
    "mse_nn = mse(target_test, nn_pred)\n",
    "print('\\nFinal prediction unscaled results:')\n",
    "print('Validation MSE: \\t', mse_nn)\n",
    "print('Validation RMSE:\\t', mse_nn ** 0.5)\n",
    "\n",
    "# Unscale predictions and get best score\n",
    "nn_best_pred = target_scaler.inverse_transform(lowest_loss_test_pred.cpu().detach().numpy())\n",
    "mse_nn_best = mse(target_test, nn_best_pred)\n",
    "print('\\nBest run prediction unscaled results:')\n",
    "print('Validation MSE: \\t', mse_nn_best)\n",
    "print('Validation RMSE:\\t', mse_nn_best ** 0.5)"
   ]
  },
  {
   "cell_type": "code",
   "execution_count": 35,
   "id": "e3cd035f",
   "metadata": {},
   "outputs": [
    {
     "name": "stdout",
     "output_type": "stream",
     "text": [
      "Constant model MSE:  302.333217364881\n",
      "Constant model RMSE:  17.387731806215584\n",
      "Linear regression MSE:  94.50829893871058\n",
      "Linear regression RMSE:  9.721537889588795\n"
     ]
    }
   ],
   "source": [
    "#rerunning for ease of access\n",
    "#constant model\n",
    "const_pred = np.full(target_test.shape, fill_value=target_train.mean())\n",
    "const_mse = mse(target_test, const_pred)\n",
    "print('Constant model MSE: ', const_mse)\n",
    "print('Constant model RMSE: ', const_mse ** 0.5)\n",
    "\n",
    "#linear regression model\n",
    "lreg = LinearRegression()\n",
    "lreg.fit(features_train, target_train)\n",
    "lreg_pred = lreg.predict(features_test)\n",
    "lreg_mse = mse(target_test, lreg_pred)\n",
    "print('Linear regression MSE: ', lreg_mse)\n",
    "print('Linear regression RMSE: ', lreg_mse ** 0.5)"
   ]
  },
  {
   "cell_type": "markdown",
   "id": "396c6678",
   "metadata": {},
   "source": [
    "It's not by much, but we've managed to beat the linear regression! By turning the epochs even higher, we can achieve marginal additional gains, but it's likely not worthwhile."
   ]
  }
 ],
 "metadata": {
  "kernelspec": {
   "display_name": "base",
   "language": "python",
   "name": "python3"
  },
  "language_info": {
   "codemirror_mode": {
    "name": "ipython",
    "version": 3
   },
   "file_extension": ".py",
   "mimetype": "text/x-python",
   "name": "python",
   "nbconvert_exporter": "python",
   "pygments_lexer": "ipython3",
   "version": "3.12.4"
  }
 },
 "nbformat": 4,
 "nbformat_minor": 5
}
